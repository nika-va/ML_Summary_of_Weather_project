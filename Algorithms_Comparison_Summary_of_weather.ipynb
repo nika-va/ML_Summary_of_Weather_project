{
  "cells": [
    {
      "cell_type": "markdown",
      "metadata": {
        "id": "view-in-github",
        "colab_type": "text"
      },
      "source": [
        "<a href=\"https://colab.research.google.com/github/nika-va/ML_Summary_of_Weather_project/blob/main/Algorithms_Comparison_Summary_of_weather.ipynb\" target=\"_parent\"><img src=\"https://colab.research.google.com/assets/colab-badge.svg\" alt=\"Open In Colab\"/></a>"
      ]
    },
    {
      "cell_type": "code",
      "execution_count": null,
      "metadata": {
        "id": "nyrvhv_C-lNR",
        "colab": {
          "base_uri": "https://localhost:8080/"
        },
        "outputId": "e966c822-ed59-4e9a-c781-ec029825fa61"
      },
      "outputs": [
        {
          "output_type": "stream",
          "name": "stdout",
          "text": [
            "Requirement already satisfied: scikit-learn in /usr/local/lib/python3.10/dist-packages (1.2.2)\n",
            "Requirement already satisfied: numpy>=1.17.3 in /usr/local/lib/python3.10/dist-packages (from scikit-learn) (1.25.2)\n",
            "Requirement already satisfied: scipy>=1.3.2 in /usr/local/lib/python3.10/dist-packages (from scikit-learn) (1.11.4)\n",
            "Requirement already satisfied: joblib>=1.1.1 in /usr/local/lib/python3.10/dist-packages (from scikit-learn) (1.4.2)\n",
            "Requirement already satisfied: threadpoolctl>=2.0.0 in /usr/local/lib/python3.10/dist-packages (from scikit-learn) (3.5.0)\n",
            "Requirement already satisfied: bayesian-optimization in /usr/local/lib/python3.10/dist-packages (1.4.3)\n",
            "Requirement already satisfied: numpy>=1.9.0 in /usr/local/lib/python3.10/dist-packages (from bayesian-optimization) (1.25.2)\n",
            "Requirement already satisfied: scipy>=1.0.0 in /usr/local/lib/python3.10/dist-packages (from bayesian-optimization) (1.11.4)\n",
            "Requirement already satisfied: scikit-learn>=0.18.0 in /usr/local/lib/python3.10/dist-packages (from bayesian-optimization) (1.2.2)\n",
            "Requirement already satisfied: colorama>=0.4.6 in /usr/local/lib/python3.10/dist-packages (from bayesian-optimization) (0.4.6)\n",
            "Requirement already satisfied: joblib>=1.1.1 in /usr/local/lib/python3.10/dist-packages (from scikit-learn>=0.18.0->bayesian-optimization) (1.4.2)\n",
            "Requirement already satisfied: threadpoolctl>=2.0.0 in /usr/local/lib/python3.10/dist-packages (from scikit-learn>=0.18.0->bayesian-optimization) (3.5.0)\n",
            "Requirement already satisfied: scikit-optimize in /usr/local/lib/python3.10/dist-packages (0.10.1)\n",
            "Requirement already satisfied: joblib>=0.11 in /usr/local/lib/python3.10/dist-packages (from scikit-optimize) (1.4.2)\n",
            "Requirement already satisfied: pyaml>=16.9 in /usr/local/lib/python3.10/dist-packages (from scikit-optimize) (24.4.0)\n",
            "Requirement already satisfied: numpy>=1.20.3 in /usr/local/lib/python3.10/dist-packages (from scikit-optimize) (1.25.2)\n",
            "Requirement already satisfied: scipy>=1.1.0 in /usr/local/lib/python3.10/dist-packages (from scikit-optimize) (1.11.4)\n",
            "Requirement already satisfied: scikit-learn>=1.0.0 in /usr/local/lib/python3.10/dist-packages (from scikit-optimize) (1.2.2)\n",
            "Requirement already satisfied: packaging>=21.3 in /usr/local/lib/python3.10/dist-packages (from scikit-optimize) (24.0)\n",
            "Requirement already satisfied: PyYAML in /usr/local/lib/python3.10/dist-packages (from pyaml>=16.9->scikit-optimize) (6.0.1)\n",
            "Requirement already satisfied: threadpoolctl>=2.0.0 in /usr/local/lib/python3.10/dist-packages (from scikit-learn>=1.0.0->scikit-optimize) (3.5.0)\n",
            "Requirement already satisfied: category_encoders in /usr/local/lib/python3.10/dist-packages (2.6.3)\n",
            "Requirement already satisfied: numpy>=1.14.0 in /usr/local/lib/python3.10/dist-packages (from category_encoders) (1.25.2)\n",
            "Requirement already satisfied: scikit-learn>=0.20.0 in /usr/local/lib/python3.10/dist-packages (from category_encoders) (1.2.2)\n",
            "Requirement already satisfied: scipy>=1.0.0 in /usr/local/lib/python3.10/dist-packages (from category_encoders) (1.11.4)\n",
            "Requirement already satisfied: statsmodels>=0.9.0 in /usr/local/lib/python3.10/dist-packages (from category_encoders) (0.14.2)\n",
            "Requirement already satisfied: pandas>=1.0.5 in /usr/local/lib/python3.10/dist-packages (from category_encoders) (2.0.3)\n",
            "Requirement already satisfied: patsy>=0.5.1 in /usr/local/lib/python3.10/dist-packages (from category_encoders) (0.5.6)\n",
            "Requirement already satisfied: python-dateutil>=2.8.2 in /usr/local/lib/python3.10/dist-packages (from pandas>=1.0.5->category_encoders) (2.8.2)\n",
            "Requirement already satisfied: pytz>=2020.1 in /usr/local/lib/python3.10/dist-packages (from pandas>=1.0.5->category_encoders) (2023.4)\n",
            "Requirement already satisfied: tzdata>=2022.1 in /usr/local/lib/python3.10/dist-packages (from pandas>=1.0.5->category_encoders) (2024.1)\n",
            "Requirement already satisfied: six in /usr/local/lib/python3.10/dist-packages (from patsy>=0.5.1->category_encoders) (1.16.0)\n",
            "Requirement already satisfied: joblib>=1.1.1 in /usr/local/lib/python3.10/dist-packages (from scikit-learn>=0.20.0->category_encoders) (1.4.2)\n",
            "Requirement already satisfied: threadpoolctl>=2.0.0 in /usr/local/lib/python3.10/dist-packages (from scikit-learn>=0.20.0->category_encoders) (3.5.0)\n",
            "Requirement already satisfied: packaging>=21.3 in /usr/local/lib/python3.10/dist-packages (from statsmodels>=0.9.0->category_encoders) (24.0)\n",
            "Requirement already satisfied: xgboost in /usr/local/lib/python3.10/dist-packages (2.0.3)\n",
            "Requirement already satisfied: numpy in /usr/local/lib/python3.10/dist-packages (from xgboost) (1.25.2)\n",
            "Requirement already satisfied: scipy in /usr/local/lib/python3.10/dist-packages (from xgboost) (1.11.4)\n"
          ]
        }
      ],
      "source": [
        "!pip install scikit-learn\n",
        "!pip install bayesian-optimization\n",
        "!pip install scikit-optimize\n",
        "!pip install category_encoders\n",
        "!pip install xgboost"
      ]
    },
    {
      "cell_type": "code",
      "execution_count": null,
      "metadata": {
        "id": "yf0UBSSO6HW2"
      },
      "outputs": [],
      "source": [
        "# main libraries\n",
        "import time\n",
        "import numpy as np\n",
        "import pandas as pd\n",
        "import matplotlib.pyplot as plt\n",
        "import seaborn as sns\n",
        "\n",
        "# dataset preprocessing\n",
        "from sklearn import preprocessing\n",
        "from sklearn.model_selection import train_test_split\n",
        "from category_encoders.hashing import HashingEncoder\n",
        "\n",
        "# import algorithms\n",
        "from sklearn.tree import DecisionTreeRegressor\n",
        "from sklearn.ensemble import RandomForestRegressor\n",
        "from sklearn.linear_model import LinearRegression\n",
        "from sklearn.preprocessing import PolynomialFeatures\n",
        "from sklearn.svm import SVR\n",
        "from sklearn.linear_model import Ridge\n",
        "from sklearn.linear_model import Lasso\n",
        "from sklearn.linear_model import PoissonRegressor\n",
        "from sklearn.gaussian_process import GaussianProcessRegressor\n",
        "from xgboost import XGBRegressor\n",
        "from sklearn.model_selection import cross_val_score\n",
        "\n",
        "# metrics\n",
        "from sklearn.metrics import accuracy_score, \\\n",
        "                            precision_score, \\\n",
        "                            recall_score, \\\n",
        "                            f1_score, \\\n",
        "                            mean_squared_error, \\\n",
        "                            mean_absolute_error, \\\n",
        "                            r2_score\n",
        "\n",
        "# hyperparameter tuning\n",
        "from sklearn.model_selection import GridSearchCV, RandomizedSearchCV\n",
        "from bayes_opt import BayesianOptimization, UtilityFunction\n",
        "from skopt import BayesSearchCV\n",
        "from skopt.space import Real, Integer, Categorical\n",
        "from scipy.stats import uniform, poisson\n",
        "from sklearn.gaussian_process.kernels import RBF, DotProduct\n",
        "\n",
        "import warnings\n",
        "warnings.filterwarnings('ignore')"
      ]
    },
    {
      "cell_type": "code",
      "execution_count": null,
      "metadata": {
        "id": "aYJ_cVUR_CIG",
        "colab": {
          "base_uri": "https://localhost:8080/",
          "height": 206
        },
        "outputId": "d068ac79-28a9-4442-d1dc-f1ec2e760e64"
      },
      "outputs": [
        {
          "output_type": "execute_result",
          "data": {
            "text/plain": [
              "     STA Precip    MaxTemp    MinTemp  YR  MO  DA\n",
              "0  10001  1.016  25.555556  22.222222  42   7   1\n",
              "1  10001      0  28.888889  21.666667  42   7   2\n",
              "2  10001   2.54  26.111111  22.222222  42   7   3\n",
              "3  10001   2.54  26.666667  22.222222  42   7   4\n",
              "4  10001      0  26.666667  21.666667  42   7   5"
            ],
            "text/html": [
              "\n",
              "  <div id=\"df-5be230ea-2300-46c2-aeb2-857dfb5a38ad\" class=\"colab-df-container\">\n",
              "    <div>\n",
              "<style scoped>\n",
              "    .dataframe tbody tr th:only-of-type {\n",
              "        vertical-align: middle;\n",
              "    }\n",
              "\n",
              "    .dataframe tbody tr th {\n",
              "        vertical-align: top;\n",
              "    }\n",
              "\n",
              "    .dataframe thead th {\n",
              "        text-align: right;\n",
              "    }\n",
              "</style>\n",
              "<table border=\"1\" class=\"dataframe\">\n",
              "  <thead>\n",
              "    <tr style=\"text-align: right;\">\n",
              "      <th></th>\n",
              "      <th>STA</th>\n",
              "      <th>Precip</th>\n",
              "      <th>MaxTemp</th>\n",
              "      <th>MinTemp</th>\n",
              "      <th>YR</th>\n",
              "      <th>MO</th>\n",
              "      <th>DA</th>\n",
              "    </tr>\n",
              "  </thead>\n",
              "  <tbody>\n",
              "    <tr>\n",
              "      <th>0</th>\n",
              "      <td>10001</td>\n",
              "      <td>1.016</td>\n",
              "      <td>25.555556</td>\n",
              "      <td>22.222222</td>\n",
              "      <td>42</td>\n",
              "      <td>7</td>\n",
              "      <td>1</td>\n",
              "    </tr>\n",
              "    <tr>\n",
              "      <th>1</th>\n",
              "      <td>10001</td>\n",
              "      <td>0</td>\n",
              "      <td>28.888889</td>\n",
              "      <td>21.666667</td>\n",
              "      <td>42</td>\n",
              "      <td>7</td>\n",
              "      <td>2</td>\n",
              "    </tr>\n",
              "    <tr>\n",
              "      <th>2</th>\n",
              "      <td>10001</td>\n",
              "      <td>2.54</td>\n",
              "      <td>26.111111</td>\n",
              "      <td>22.222222</td>\n",
              "      <td>42</td>\n",
              "      <td>7</td>\n",
              "      <td>3</td>\n",
              "    </tr>\n",
              "    <tr>\n",
              "      <th>3</th>\n",
              "      <td>10001</td>\n",
              "      <td>2.54</td>\n",
              "      <td>26.666667</td>\n",
              "      <td>22.222222</td>\n",
              "      <td>42</td>\n",
              "      <td>7</td>\n",
              "      <td>4</td>\n",
              "    </tr>\n",
              "    <tr>\n",
              "      <th>4</th>\n",
              "      <td>10001</td>\n",
              "      <td>0</td>\n",
              "      <td>26.666667</td>\n",
              "      <td>21.666667</td>\n",
              "      <td>42</td>\n",
              "      <td>7</td>\n",
              "      <td>5</td>\n",
              "    </tr>\n",
              "  </tbody>\n",
              "</table>\n",
              "</div>\n",
              "    <div class=\"colab-df-buttons\">\n",
              "\n",
              "  <div class=\"colab-df-container\">\n",
              "    <button class=\"colab-df-convert\" onclick=\"convertToInteractive('df-5be230ea-2300-46c2-aeb2-857dfb5a38ad')\"\n",
              "            title=\"Convert this dataframe to an interactive table.\"\n",
              "            style=\"display:none;\">\n",
              "\n",
              "  <svg xmlns=\"http://www.w3.org/2000/svg\" height=\"24px\" viewBox=\"0 -960 960 960\">\n",
              "    <path d=\"M120-120v-720h720v720H120Zm60-500h600v-160H180v160Zm220 220h160v-160H400v160Zm0 220h160v-160H400v160ZM180-400h160v-160H180v160Zm440 0h160v-160H620v160ZM180-180h160v-160H180v160Zm440 0h160v-160H620v160Z\"/>\n",
              "  </svg>\n",
              "    </button>\n",
              "\n",
              "  <style>\n",
              "    .colab-df-container {\n",
              "      display:flex;\n",
              "      gap: 12px;\n",
              "    }\n",
              "\n",
              "    .colab-df-convert {\n",
              "      background-color: #E8F0FE;\n",
              "      border: none;\n",
              "      border-radius: 50%;\n",
              "      cursor: pointer;\n",
              "      display: none;\n",
              "      fill: #1967D2;\n",
              "      height: 32px;\n",
              "      padding: 0 0 0 0;\n",
              "      width: 32px;\n",
              "    }\n",
              "\n",
              "    .colab-df-convert:hover {\n",
              "      background-color: #E2EBFA;\n",
              "      box-shadow: 0px 1px 2px rgba(60, 64, 67, 0.3), 0px 1px 3px 1px rgba(60, 64, 67, 0.15);\n",
              "      fill: #174EA6;\n",
              "    }\n",
              "\n",
              "    .colab-df-buttons div {\n",
              "      margin-bottom: 4px;\n",
              "    }\n",
              "\n",
              "    [theme=dark] .colab-df-convert {\n",
              "      background-color: #3B4455;\n",
              "      fill: #D2E3FC;\n",
              "    }\n",
              "\n",
              "    [theme=dark] .colab-df-convert:hover {\n",
              "      background-color: #434B5C;\n",
              "      box-shadow: 0px 1px 3px 1px rgba(0, 0, 0, 0.15);\n",
              "      filter: drop-shadow(0px 1px 2px rgba(0, 0, 0, 0.3));\n",
              "      fill: #FFFFFF;\n",
              "    }\n",
              "  </style>\n",
              "\n",
              "    <script>\n",
              "      const buttonEl =\n",
              "        document.querySelector('#df-5be230ea-2300-46c2-aeb2-857dfb5a38ad button.colab-df-convert');\n",
              "      buttonEl.style.display =\n",
              "        google.colab.kernel.accessAllowed ? 'block' : 'none';\n",
              "\n",
              "      async function convertToInteractive(key) {\n",
              "        const element = document.querySelector('#df-5be230ea-2300-46c2-aeb2-857dfb5a38ad');\n",
              "        const dataTable =\n",
              "          await google.colab.kernel.invokeFunction('convertToInteractive',\n",
              "                                                    [key], {});\n",
              "        if (!dataTable) return;\n",
              "\n",
              "        const docLinkHtml = 'Like what you see? Visit the ' +\n",
              "          '<a target=\"_blank\" href=https://colab.research.google.com/notebooks/data_table.ipynb>data table notebook</a>'\n",
              "          + ' to learn more about interactive tables.';\n",
              "        element.innerHTML = '';\n",
              "        dataTable['output_type'] = 'display_data';\n",
              "        await google.colab.output.renderOutput(dataTable, element);\n",
              "        const docLink = document.createElement('div');\n",
              "        docLink.innerHTML = docLinkHtml;\n",
              "        element.appendChild(docLink);\n",
              "      }\n",
              "    </script>\n",
              "  </div>\n",
              "\n",
              "\n",
              "<div id=\"df-7a40db44-39ca-41d8-8e55-8b482c991e86\">\n",
              "  <button class=\"colab-df-quickchart\" onclick=\"quickchart('df-7a40db44-39ca-41d8-8e55-8b482c991e86')\"\n",
              "            title=\"Suggest charts\"\n",
              "            style=\"display:none;\">\n",
              "\n",
              "<svg xmlns=\"http://www.w3.org/2000/svg\" height=\"24px\"viewBox=\"0 0 24 24\"\n",
              "     width=\"24px\">\n",
              "    <g>\n",
              "        <path d=\"M19 3H5c-1.1 0-2 .9-2 2v14c0 1.1.9 2 2 2h14c1.1 0 2-.9 2-2V5c0-1.1-.9-2-2-2zM9 17H7v-7h2v7zm4 0h-2V7h2v10zm4 0h-2v-4h2v4z\"/>\n",
              "    </g>\n",
              "</svg>\n",
              "  </button>\n",
              "\n",
              "<style>\n",
              "  .colab-df-quickchart {\n",
              "      --bg-color: #E8F0FE;\n",
              "      --fill-color: #1967D2;\n",
              "      --hover-bg-color: #E2EBFA;\n",
              "      --hover-fill-color: #174EA6;\n",
              "      --disabled-fill-color: #AAA;\n",
              "      --disabled-bg-color: #DDD;\n",
              "  }\n",
              "\n",
              "  [theme=dark] .colab-df-quickchart {\n",
              "      --bg-color: #3B4455;\n",
              "      --fill-color: #D2E3FC;\n",
              "      --hover-bg-color: #434B5C;\n",
              "      --hover-fill-color: #FFFFFF;\n",
              "      --disabled-bg-color: #3B4455;\n",
              "      --disabled-fill-color: #666;\n",
              "  }\n",
              "\n",
              "  .colab-df-quickchart {\n",
              "    background-color: var(--bg-color);\n",
              "    border: none;\n",
              "    border-radius: 50%;\n",
              "    cursor: pointer;\n",
              "    display: none;\n",
              "    fill: var(--fill-color);\n",
              "    height: 32px;\n",
              "    padding: 0;\n",
              "    width: 32px;\n",
              "  }\n",
              "\n",
              "  .colab-df-quickchart:hover {\n",
              "    background-color: var(--hover-bg-color);\n",
              "    box-shadow: 0 1px 2px rgba(60, 64, 67, 0.3), 0 1px 3px 1px rgba(60, 64, 67, 0.15);\n",
              "    fill: var(--button-hover-fill-color);\n",
              "  }\n",
              "\n",
              "  .colab-df-quickchart-complete:disabled,\n",
              "  .colab-df-quickchart-complete:disabled:hover {\n",
              "    background-color: var(--disabled-bg-color);\n",
              "    fill: var(--disabled-fill-color);\n",
              "    box-shadow: none;\n",
              "  }\n",
              "\n",
              "  .colab-df-spinner {\n",
              "    border: 2px solid var(--fill-color);\n",
              "    border-color: transparent;\n",
              "    border-bottom-color: var(--fill-color);\n",
              "    animation:\n",
              "      spin 1s steps(1) infinite;\n",
              "  }\n",
              "\n",
              "  @keyframes spin {\n",
              "    0% {\n",
              "      border-color: transparent;\n",
              "      border-bottom-color: var(--fill-color);\n",
              "      border-left-color: var(--fill-color);\n",
              "    }\n",
              "    20% {\n",
              "      border-color: transparent;\n",
              "      border-left-color: var(--fill-color);\n",
              "      border-top-color: var(--fill-color);\n",
              "    }\n",
              "    30% {\n",
              "      border-color: transparent;\n",
              "      border-left-color: var(--fill-color);\n",
              "      border-top-color: var(--fill-color);\n",
              "      border-right-color: var(--fill-color);\n",
              "    }\n",
              "    40% {\n",
              "      border-color: transparent;\n",
              "      border-right-color: var(--fill-color);\n",
              "      border-top-color: var(--fill-color);\n",
              "    }\n",
              "    60% {\n",
              "      border-color: transparent;\n",
              "      border-right-color: var(--fill-color);\n",
              "    }\n",
              "    80% {\n",
              "      border-color: transparent;\n",
              "      border-right-color: var(--fill-color);\n",
              "      border-bottom-color: var(--fill-color);\n",
              "    }\n",
              "    90% {\n",
              "      border-color: transparent;\n",
              "      border-bottom-color: var(--fill-color);\n",
              "    }\n",
              "  }\n",
              "</style>\n",
              "\n",
              "  <script>\n",
              "    async function quickchart(key) {\n",
              "      const quickchartButtonEl =\n",
              "        document.querySelector('#' + key + ' button');\n",
              "      quickchartButtonEl.disabled = true;  // To prevent multiple clicks.\n",
              "      quickchartButtonEl.classList.add('colab-df-spinner');\n",
              "      try {\n",
              "        const charts = await google.colab.kernel.invokeFunction(\n",
              "            'suggestCharts', [key], {});\n",
              "      } catch (error) {\n",
              "        console.error('Error during call to suggestCharts:', error);\n",
              "      }\n",
              "      quickchartButtonEl.classList.remove('colab-df-spinner');\n",
              "      quickchartButtonEl.classList.add('colab-df-quickchart-complete');\n",
              "    }\n",
              "    (() => {\n",
              "      let quickchartButtonEl =\n",
              "        document.querySelector('#df-7a40db44-39ca-41d8-8e55-8b482c991e86 button');\n",
              "      quickchartButtonEl.style.display =\n",
              "        google.colab.kernel.accessAllowed ? 'block' : 'none';\n",
              "    })();\n",
              "  </script>\n",
              "</div>\n",
              "\n",
              "    </div>\n",
              "  </div>\n"
            ],
            "application/vnd.google.colaboratory.intrinsic+json": {
              "type": "dataframe",
              "variable_name": "data"
            }
          },
          "metadata": {},
          "execution_count": 3
        }
      ],
      "source": [
        "data = pd.read_csv('/content/Summary of Weather.csv', usecols=['STA', 'Precip','MaxTemp', 'MinTemp', 'YR', 'MO', 'DA'])\n",
        "data.head()"
      ]
    },
    {
      "cell_type": "code",
      "execution_count": null,
      "metadata": {
        "id": "aPkg0biCAmgd",
        "colab": {
          "base_uri": "https://localhost:8080/"
        },
        "outputId": "9e6e6dd6-6c5c-4ee0-aba6-d6deb8cf735a"
      },
      "outputs": [
        {
          "output_type": "stream",
          "name": "stdout",
          "text": [
            "<class 'pandas.core.frame.DataFrame'>\n",
            "RangeIndex: 119040 entries, 0 to 119039\n",
            "Data columns (total 7 columns):\n",
            " #   Column   Non-Null Count   Dtype  \n",
            "---  ------   --------------   -----  \n",
            " 0   STA      119040 non-null  int64  \n",
            " 1   Precip   119040 non-null  object \n",
            " 2   MaxTemp  119040 non-null  float64\n",
            " 3   MinTemp  119040 non-null  float64\n",
            " 4   YR       119040 non-null  int64  \n",
            " 5   MO       119040 non-null  int64  \n",
            " 6   DA       119040 non-null  int64  \n",
            "dtypes: float64(2), int64(4), object(1)\n",
            "memory usage: 6.4+ MB\n"
          ]
        }
      ],
      "source": [
        "data.info()"
      ]
    },
    {
      "cell_type": "code",
      "execution_count": null,
      "metadata": {
        "id": "4WPHZZfcLxSm"
      },
      "outputs": [],
      "source": [
        "data.dropna(inplace=True)"
      ]
    },
    {
      "cell_type": "code",
      "execution_count": null,
      "metadata": {
        "id": "kQEWktea_aAM",
        "colab": {
          "base_uri": "https://localhost:8080/"
        },
        "outputId": "ff5d161c-4b60-4512-8e52-3d9793710176"
      },
      "outputs": [
        {
          "output_type": "execute_result",
          "data": {
            "text/plain": [
              "159"
            ]
          },
          "metadata": {},
          "execution_count": 6
        }
      ],
      "source": [
        "data['STA'].nunique()"
      ]
    },
    {
      "cell_type": "code",
      "execution_count": null,
      "metadata": {
        "id": "GdtlJed7NOdM",
        "colab": {
          "base_uri": "https://localhost:8080/"
        },
        "outputId": "c366e045-f7ce-4818-984e-66f1a12871dc"
      },
      "outputs": [
        {
          "output_type": "execute_result",
          "data": {
            "text/plain": [
              "Precip\n",
              "0          64267\n",
              "T          16753\n",
              "0.254       3389\n",
              "0.508       2909\n",
              "0.762       2015\n",
              "           ...  \n",
              "123.698        1\n",
              "106.68         1\n",
              "126.492        1\n",
              "123.952        1\n",
              "161.036        1\n",
              "Name: count, Length: 540, dtype: int64"
            ]
          },
          "metadata": {},
          "execution_count": 7
        }
      ],
      "source": [
        "data['Precip'].value_counts()"
      ]
    },
    {
      "cell_type": "code",
      "execution_count": null,
      "metadata": {
        "id": "zIBvSNUZP-fP"
      },
      "outputs": [],
      "source": [
        "precipitation_numeric = data['Precip'].replace('T', '0.01')\n",
        "precipitation_numeric = pd.to_numeric(precipitation_numeric)\n",
        "data['Precip'] = precipitation_numeric.astype(float)"
      ]
    },
    {
      "cell_type": "code",
      "execution_count": null,
      "metadata": {
        "id": "-g1BszOERc8j",
        "colab": {
          "base_uri": "https://localhost:8080/"
        },
        "outputId": "3ea6f663-70b2-4ff0-b981-793a235afa90"
      },
      "outputs": [
        {
          "output_type": "execute_result",
          "data": {
            "text/plain": [
              "STA    Precip  MaxTemp    MinTemp    YR  MO  DA\n",
              "34139  0.000   37.222222  16.111111  45  6   24    2\n",
              "       0.010   30.555556  20.000000  45  6   27    2\n",
              "       0.000   38.333333  18.333333  45  6   25    2\n",
              "               30.000000  20.000000  45  6   28    2\n",
              "       0.508   35.000000  18.888889  45  6   21    2\n",
              "                                                  ..\n",
              "13007  0.000   21.111111  3.888889   45  2   1     1\n",
              "                                     44  3   16    1\n",
              "                          3.333333   45  2   9     1\n",
              "                          2.777778   45  3   3     1\n",
              "82506  65.024  20.555556  15.000000  45  6   10    1\n",
              "Name: count, Length: 119030, dtype: int64"
            ]
          },
          "metadata": {},
          "execution_count": 9
        }
      ],
      "source": [
        "data.value_counts()"
      ]
    },
    {
      "cell_type": "code",
      "execution_count": null,
      "metadata": {
        "id": "KvVti6dAPNUH",
        "colab": {
          "base_uri": "https://localhost:8080/",
          "height": 539
        },
        "outputId": "5ba2c409-8a8c-40b8-e71f-90090adfeb7e"
      },
      "outputs": [
        {
          "output_type": "execute_result",
          "data": {
            "text/plain": [
              "(0.0, 10.0)"
            ]
          },
          "metadata": {},
          "execution_count": 10
        },
        {
          "output_type": "display_data",
          "data": {
            "text/plain": [
              "<Figure size 1100x600 with 1 Axes>"
            ],
            "image/png": "[encoded data removed]"
          },
          "metadata": {}
        }
      ],
      "source": [
        "fig = plt.figure(figsize=(11,6))\n",
        "plt.hist(precipitation_numeric.astype(int), bins=200)\n",
        "plt.xlim(0, 10)"
      ]
    },
    {
      "cell_type": "code",
      "execution_count": null,
      "metadata": {
        "id": "SNbIwtSvGiFH"
      },
      "outputs": [],
      "source": [
        "he = HashingEncoder(cols=['STA']).fit(data)\n",
        "data = he.transform(data)"
      ]
    },
    {
      "cell_type": "code",
      "execution_count": null,
      "metadata": {
        "id": "ojOk7_c5MxtX"
      },
      "outputs": [],
      "source": [
        "cols_to_scale = ['Precip',\t'MaxTemp',\t'MinTemp', 'YR',\t'MO',\t'DA']\n",
        "data[cols_to_scale] = preprocessing.StandardScaler().fit_transform(data[cols_to_scale])"
      ]
    },
    {
      "cell_type": "code",
      "execution_count": null,
      "metadata": {
        "id": "Tda94lhMShbX",
        "colab": {
          "base_uri": "https://localhost:8080/",
          "height": 206
        },
        "outputId": "6353c5be-bf01-4e93-daf6-a22f04356aa6"
      },
      "outputs": [
        {
          "output_type": "execute_result",
          "data": {
            "text/plain": [
              "   col_0  col_1  col_2  col_3  col_4  col_5  col_6  col_7    Precip   MaxTemp  \\\n",
              "0      0      1      0      0      0      0      0      0 -0.204713 -0.170864   \n",
              "1      0      1      0      0      0      0      0      0 -0.298782  0.211496   \n",
              "2      0      1      0      0      0      0      0      0 -0.063610 -0.107137   \n",
              "3      0      1      0      0      0      0      0      0 -0.063610 -0.043411   \n",
              "4      0      1      0      0      0      0      0      0 -0.298782 -0.043411   \n",
              "\n",
              "    MinTemp        YR        MO        DA  \n",
              "0  0.531849 -1.588161  0.079982 -1.682588  \n",
              "1  0.465192 -1.588161  0.079982 -1.568881  \n",
              "2  0.531849 -1.588161  0.079982 -1.455174  \n",
              "3  0.531849 -1.588161  0.079982 -1.341466  \n",
              "4  0.465192 -1.588161  0.079982 -1.227759  "
            ],
            "text/html": [
              "\n",
              "  <div id=\"df-6ba2d7a6-d156-4ec1-beb0-31fd0e144473\" class=\"colab-df-container\">\n",
              "    <div>\n",
              "<style scoped>\n",
              "    .dataframe tbody tr th:only-of-type {\n",
              "        vertical-align: middle;\n",
              "    }\n",
              "\n",
              "    .dataframe tbody tr th {\n",
              "        vertical-align: top;\n",
              "    }\n",
              "\n",
              "    .dataframe thead th {\n",
              "        text-align: right;\n",
              "    }\n",
              "</style>\n",
              "<table border=\"1\" class=\"dataframe\">\n",
              "  <thead>\n",
              "    <tr style=\"text-align: right;\">\n",
              "      <th></th>\n",
              "      <th>col_0</th>\n",
              "      <th>col_1</th>\n",
              "      <th>col_2</th>\n",
              "      <th>col_3</th>\n",
              "      <th>col_4</th>\n",
              "      <th>col_5</th>\n",
              "      <th>col_6</th>\n",
              "      <th>col_7</th>\n",
              "      <th>Precip</th>\n",
              "      <th>MaxTemp</th>\n",
              "      <th>MinTemp</th>\n",
              "      <th>YR</th>\n",
              "      <th>MO</th>\n",
              "      <th>DA</th>\n",
              "    </tr>\n",
              "  </thead>\n",
              "  <tbody>\n",
              "    <tr>\n",
              "      <th>0</th>\n",
              "      <td>0</td>\n",
              "      <td>1</td>\n",
              "      <td>0</td>\n",
              "      <td>0</td>\n",
              "      <td>0</td>\n",
              "      <td>0</td>\n",
              "      <td>0</td>\n",
              "      <td>0</td>\n",
              "      <td>-0.204713</td>\n",
              "      <td>-0.170864</td>\n",
              "      <td>0.531849</td>\n",
              "      <td>-1.588161</td>\n",
              "      <td>0.079982</td>\n",
              "      <td>-1.682588</td>\n",
              "    </tr>\n",
              "    <tr>\n",
              "      <th>1</th>\n",
              "      <td>0</td>\n",
              "      <td>1</td>\n",
              "      <td>0</td>\n",
              "      <td>0</td>\n",
              "      <td>0</td>\n",
              "      <td>0</td>\n",
              "      <td>0</td>\n",
              "      <td>0</td>\n",
              "      <td>-0.298782</td>\n",
              "      <td>0.211496</td>\n",
              "      <td>0.465192</td>\n",
              "      <td>-1.588161</td>\n",
              "      <td>0.079982</td>\n",
              "      <td>-1.568881</td>\n",
              "    </tr>\n",
              "    <tr>\n",
              "      <th>2</th>\n",
              "      <td>0</td>\n",
              "      <td>1</td>\n",
              "      <td>0</td>\n",
              "      <td>0</td>\n",
              "      <td>0</td>\n",
              "      <td>0</td>\n",
              "      <td>0</td>\n",
              "      <td>0</td>\n",
              "      <td>-0.063610</td>\n",
              "      <td>-0.107137</td>\n",
              "      <td>0.531849</td>\n",
              "      <td>-1.588161</td>\n",
              "      <td>0.079982</td>\n",
              "      <td>-1.455174</td>\n",
              "    </tr>\n",
              "    <tr>\n",
              "      <th>3</th>\n",
              "      <td>0</td>\n",
              "      <td>1</td>\n",
              "      <td>0</td>\n",
              "      <td>0</td>\n",
              "      <td>0</td>\n",
              "      <td>0</td>\n",
              "      <td>0</td>\n",
              "      <td>0</td>\n",
              "      <td>-0.063610</td>\n",
              "      <td>-0.043411</td>\n",
              "      <td>0.531849</td>\n",
              "      <td>-1.588161</td>\n",
              "      <td>0.079982</td>\n",
              "      <td>-1.341466</td>\n",
              "    </tr>\n",
              "    <tr>\n",
              "      <th>4</th>\n",
              "      <td>0</td>\n",
              "      <td>1</td>\n",
              "      <td>0</td>\n",
              "      <td>0</td>\n",
              "      <td>0</td>\n",
              "      <td>0</td>\n",
              "      <td>0</td>\n",
              "      <td>0</td>\n",
              "      <td>-0.298782</td>\n",
              "      <td>-0.043411</td>\n",
              "      <td>0.465192</td>\n",
              "      <td>-1.588161</td>\n",
              "      <td>0.079982</td>\n",
              "      <td>-1.227759</td>\n",
              "    </tr>\n",
              "  </tbody>\n",
              "</table>\n",
              "</div>\n",
              "    <div class=\"colab-df-buttons\">\n",
              "\n",
              "  <div class=\"colab-df-container\">\n",
              "    <button class=\"colab-df-convert\" onclick=\"convertToInteractive('df-6ba2d7a6-d156-4ec1-beb0-31fd0e144473')\"\n",
              "            title=\"Convert this dataframe to an interactive table.\"\n",
              "            style=\"display:none;\">\n",
              "\n",
              "  <svg xmlns=\"http://www.w3.org/2000/svg\" height=\"24px\" viewBox=\"0 -960 960 960\">\n",
              "    <path d=\"M120-120v-720h720v720H120Zm60-500h600v-160H180v160Zm220 220h160v-160H400v160Zm0 220h160v-160H400v160ZM180-400h160v-160H180v160Zm440 0h160v-160H620v160ZM180-180h160v-160H180v160Zm440 0h160v-160H620v160Z\"/>\n",
              "  </svg>\n",
              "    </button>\n",
              "\n",
              "  <style>\n",
              "    .colab-df-container {\n",
              "      display:flex;\n",
              "      gap: 12px;\n",
              "    }\n",
              "\n",
              "    .colab-df-convert {\n",
              "      background-color: #E8F0FE;\n",
              "      border: none;\n",
              "      border-radius: 50%;\n",
              "      cursor: pointer;\n",
              "      display: none;\n",
              "      fill: #1967D2;\n",
              "      height: 32px;\n",
              "      padding: 0 0 0 0;\n",
              "      width: 32px;\n",
              "    }\n",
              "\n",
              "    .colab-df-convert:hover {\n",
              "      background-color: #E2EBFA;\n",
              "      box-shadow: 0px 1px 2px rgba(60, 64, 67, 0.3), 0px 1px 3px 1px rgba(60, 64, 67, 0.15);\n",
              "      fill: #174EA6;\n",
              "    }\n",
              "\n",
              "    .colab-df-buttons div {\n",
              "      margin-bottom: 4px;\n",
              "    }\n",
              "\n",
              "    [theme=dark] .colab-df-convert {\n",
              "      background-color: #3B4455;\n",
              "      fill: #D2E3FC;\n",
              "    }\n",
              "\n",
              "    [theme=dark] .colab-df-convert:hover {\n",
              "      background-color: #434B5C;\n",
              "      box-shadow: 0px 1px 3px 1px rgba(0, 0, 0, 0.15);\n",
              "      filter: drop-shadow(0px 1px 2px rgba(0, 0, 0, 0.3));\n",
              "      fill: #FFFFFF;\n",
              "    }\n",
              "  </style>\n",
              "\n",
              "    <script>\n",
              "      const buttonEl =\n",
              "        document.querySelector('#df-6ba2d7a6-d156-4ec1-beb0-31fd0e144473 button.colab-df-convert');\n",
              "      buttonEl.style.display =\n",
              "        google.colab.kernel.accessAllowed ? 'block' : 'none';\n",
              "\n",
              "      async function convertToInteractive(key) {\n",
              "        const element = document.querySelector('#df-6ba2d7a6-d156-4ec1-beb0-31fd0e144473');\n",
              "        const dataTable =\n",
              "          await google.colab.kernel.invokeFunction('convertToInteractive',\n",
              "                                                    [key], {});\n",
              "        if (!dataTable) return;\n",
              "\n",
              "        const docLinkHtml = 'Like what you see? Visit the ' +\n",
              "          '<a target=\"_blank\" href=https://colab.research.google.com/notebooks/data_table.ipynb>data table notebook</a>'\n",
              "          + ' to learn more about interactive tables.';\n",
              "        element.innerHTML = '';\n",
              "        dataTable['output_type'] = 'display_data';\n",
              "        await google.colab.output.renderOutput(dataTable, element);\n",
              "        const docLink = document.createElement('div');\n",
              "        docLink.innerHTML = docLinkHtml;\n",
              "        element.appendChild(docLink);\n",
              "      }\n",
              "    </script>\n",
              "  </div>\n",
              "\n",
              "\n",
              "<div id=\"df-ea820aeb-5fdf-41d7-af3e-3fb5f91bf836\">\n",
              "  <button class=\"colab-df-quickchart\" onclick=\"quickchart('df-ea820aeb-5fdf-41d7-af3e-3fb5f91bf836')\"\n",
              "            title=\"Suggest charts\"\n",
              "            style=\"display:none;\">\n",
              "\n",
              "<svg xmlns=\"http://www.w3.org/2000/svg\" height=\"24px\"viewBox=\"0 0 24 24\"\n",
              "     width=\"24px\">\n",
              "    <g>\n",
              "        <path d=\"M19 3H5c-1.1 0-2 .9-2 2v14c0 1.1.9 2 2 2h14c1.1 0 2-.9 2-2V5c0-1.1-.9-2-2-2zM9 17H7v-7h2v7zm4 0h-2V7h2v10zm4 0h-2v-4h2v4z\"/>\n",
              "    </g>\n",
              "</svg>\n",
              "  </button>\n",
              "\n",
              "<style>\n",
              "  .colab-df-quickchart {\n",
              "      --bg-color: #E8F0FE;\n",
              "      --fill-color: #1967D2;\n",
              "      --hover-bg-color: #E2EBFA;\n",
              "      --hover-fill-color: #174EA6;\n",
              "      --disabled-fill-color: #AAA;\n",
              "      --disabled-bg-color: #DDD;\n",
              "  }\n",
              "\n",
              "  [theme=dark] .colab-df-quickchart {\n",
              "      --bg-color: #3B4455;\n",
              "      --fill-color: #D2E3FC;\n",
              "      --hover-bg-color: #434B5C;\n",
              "      --hover-fill-color: #FFFFFF;\n",
              "      --disabled-bg-color: #3B4455;\n",
              "      --disabled-fill-color: #666;\n",
              "  }\n",
              "\n",
              "  .colab-df-quickchart {\n",
              "    background-color: var(--bg-color);\n",
              "    border: none;\n",
              "    border-radius: 50%;\n",
              "    cursor: pointer;\n",
              "    display: none;\n",
              "    fill: var(--fill-color);\n",
              "    height: 32px;\n",
              "    padding: 0;\n",
              "    width: 32px;\n",
              "  }\n",
              "\n",
              "  .colab-df-quickchart:hover {\n",
              "    background-color: var(--hover-bg-color);\n",
              "    box-shadow: 0 1px 2px rgba(60, 64, 67, 0.3), 0 1px 3px 1px rgba(60, 64, 67, 0.15);\n",
              "    fill: var(--button-hover-fill-color);\n",
              "  }\n",
              "\n",
              "  .colab-df-quickchart-complete:disabled,\n",
              "  .colab-df-quickchart-complete:disabled:hover {\n",
              "    background-color: var(--disabled-bg-color);\n",
              "    fill: var(--disabled-fill-color);\n",
              "    box-shadow: none;\n",
              "  }\n",
              "\n",
              "  .colab-df-spinner {\n",
              "    border: 2px solid var(--fill-color);\n",
              "    border-color: transparent;\n",
              "    border-bottom-color: var(--fill-color);\n",
              "    animation:\n",
              "      spin 1s steps(1) infinite;\n",
              "  }\n",
              "\n",
              "  @keyframes spin {\n",
              "    0% {\n",
              "      border-color: transparent;\n",
              "      border-bottom-color: var(--fill-color);\n",
              "      border-left-color: var(--fill-color);\n",
              "    }\n",
              "    20% {\n",
              "      border-color: transparent;\n",
              "      border-left-color: var(--fill-color);\n",
              "      border-top-color: var(--fill-color);\n",
              "    }\n",
              "    30% {\n",
              "      border-color: transparent;\n",
              "      border-left-color: var(--fill-color);\n",
              "      border-top-color: var(--fill-color);\n",
              "      border-right-color: var(--fill-color);\n",
              "    }\n",
              "    40% {\n",
              "      border-color: transparent;\n",
              "      border-right-color: var(--fill-color);\n",
              "      border-top-color: var(--fill-color);\n",
              "    }\n",
              "    60% {\n",
              "      border-color: transparent;\n",
              "      border-right-color: var(--fill-color);\n",
              "    }\n",
              "    80% {\n",
              "      border-color: transparent;\n",
              "      border-right-color: var(--fill-color);\n",
              "      border-bottom-color: var(--fill-color);\n",
              "    }\n",
              "    90% {\n",
              "      border-color: transparent;\n",
              "      border-bottom-color: var(--fill-color);\n",
              "    }\n",
              "  }\n",
              "</style>\n",
              "\n",
              "  <script>\n",
              "    async function quickchart(key) {\n",
              "      const quickchartButtonEl =\n",
              "        document.querySelector('#' + key + ' button');\n",
              "      quickchartButtonEl.disabled = true;  // To prevent multiple clicks.\n",
              "      quickchartButtonEl.classList.add('colab-df-spinner');\n",
              "      try {\n",
              "        const charts = await google.colab.kernel.invokeFunction(\n",
              "            'suggestCharts', [key], {});\n",
              "      } catch (error) {\n",
              "        console.error('Error during call to suggestCharts:', error);\n",
              "      }\n",
              "      quickchartButtonEl.classList.remove('colab-df-spinner');\n",
              "      quickchartButtonEl.classList.add('colab-df-quickchart-complete');\n",
              "    }\n",
              "    (() => {\n",
              "      let quickchartButtonEl =\n",
              "        document.querySelector('#df-ea820aeb-5fdf-41d7-af3e-3fb5f91bf836 button');\n",
              "      quickchartButtonEl.style.display =\n",
              "        google.colab.kernel.accessAllowed ? 'block' : 'none';\n",
              "    })();\n",
              "  </script>\n",
              "</div>\n",
              "\n",
              "    </div>\n",
              "  </div>\n"
            ],
            "application/vnd.google.colaboratory.intrinsic+json": {
              "type": "dataframe",
              "variable_name": "data"
            }
          },
          "metadata": {},
          "execution_count": 13
        }
      ],
      "source": [
        "data.head()"
      ]
    },
    {
      "cell_type": "code",
      "execution_count": null,
      "metadata": {
        "id": "o6QaSFzZUd1w",
        "colab": {
          "base_uri": "https://localhost:8080/",
          "height": 423
        },
        "outputId": "1f674848-78ec-4398-ca1e-e6b8636b295d"
      },
      "outputs": [
        {
          "output_type": "execute_result",
          "data": {
            "text/plain": [
              "        col_0  col_1  col_2  col_3  col_4  col_5  col_6  col_7    Precip  \\\n",
              "0           0      1      0      0      0      0      0      0 -0.204713   \n",
              "1           0      1      0      0      0      0      0      0 -0.298782   \n",
              "2           0      1      0      0      0      0      0      0 -0.063610   \n",
              "3           0      1      0      0      0      0      0      0 -0.063610   \n",
              "4           0      1      0      0      0      0      0      0 -0.298782   \n",
              "...       ...    ...    ...    ...    ...    ...    ...    ...       ...   \n",
              "119035      0      0      0      0      0      0      0      1 -0.298782   \n",
              "119036      0      0      0      0      0      0      0      1  0.618391   \n",
              "119037      0      0      0      0      0      0      0      1 -0.298782   \n",
              "119038      0      0      0      0      0      0      0      1 -0.298782   \n",
              "119039      0      0      0      0      0      0      0      1 -0.298782   \n",
              "\n",
              "         MaxTemp   MinTemp        YR        MO        DA  \n",
              "0      -0.170864  0.531849 -1.588161  0.079982 -1.682588  \n",
              "1       0.211496  0.465192 -1.588161  0.079982 -1.568881  \n",
              "2      -0.107137  0.531849 -1.588161  0.079982 -1.455174  \n",
              "3      -0.043411  0.531849 -1.588161  0.079982 -1.341466  \n",
              "4      -0.043411  0.465192 -1.588161  0.079982 -1.227759  \n",
              "...          ...       ...       ...       ...       ...  \n",
              "119035  0.147770  0.065249  1.051027  1.539604  1.273804  \n",
              "119036  0.275223  0.065249  1.051027  1.539604  1.387511  \n",
              "119037  0.147770  0.065249  1.051027  1.539604  1.501218  \n",
              "119038  0.147770  0.065249  1.051027  1.539604  1.614926  \n",
              "119039  0.275223 -0.068065  1.051027  1.539604  1.728633  \n",
              "\n",
              "[119040 rows x 14 columns]"
            ],
            "text/html": [
              "\n",
              "  <div id=\"df-05807fd5-f74f-464d-b159-649b14086a7d\" class=\"colab-df-container\">\n",
              "    <div>\n",
              "<style scoped>\n",
              "    .dataframe tbody tr th:only-of-type {\n",
              "        vertical-align: middle;\n",
              "    }\n",
              "\n",
              "    .dataframe tbody tr th {\n",
              "        vertical-align: top;\n",
              "    }\n",
              "\n",
              "    .dataframe thead th {\n",
              "        text-align: right;\n",
              "    }\n",
              "</style>\n",
              "<table border=\"1\" class=\"dataframe\">\n",
              "  <thead>\n",
              "    <tr style=\"text-align: right;\">\n",
              "      <th></th>\n",
              "      <th>col_0</th>\n",
              "      <th>col_1</th>\n",
              "      <th>col_2</th>\n",
              "      <th>col_3</th>\n",
              "      <th>col_4</th>\n",
              "      <th>col_5</th>\n",
              "      <th>col_6</th>\n",
              "      <th>col_7</th>\n",
              "      <th>Precip</th>\n",
              "      <th>MaxTemp</th>\n",
              "      <th>MinTemp</th>\n",
              "      <th>YR</th>\n",
              "      <th>MO</th>\n",
              "      <th>DA</th>\n",
              "    </tr>\n",
              "  </thead>\n",
              "  <tbody>\n",
              "    <tr>\n",
              "      <th>0</th>\n",
              "      <td>0</td>\n",
              "      <td>1</td>\n",
              "      <td>0</td>\n",
              "      <td>0</td>\n",
              "      <td>0</td>\n",
              "      <td>0</td>\n",
              "      <td>0</td>\n",
              "      <td>0</td>\n",
              "      <td>-0.204713</td>\n",
              "      <td>-0.170864</td>\n",
              "      <td>0.531849</td>\n",
              "      <td>-1.588161</td>\n",
              "      <td>0.079982</td>\n",
              "      <td>-1.682588</td>\n",
              "    </tr>\n",
              "    <tr>\n",
              "      <th>1</th>\n",
              "      <td>0</td>\n",
              "      <td>1</td>\n",
              "      <td>0</td>\n",
              "      <td>0</td>\n",
              "      <td>0</td>\n",
              "      <td>0</td>\n",
              "      <td>0</td>\n",
              "      <td>0</td>\n",
              "      <td>-0.298782</td>\n",
              "      <td>0.211496</td>\n",
              "      <td>0.465192</td>\n",
              "      <td>-1.588161</td>\n",
              "      <td>0.079982</td>\n",
              "      <td>-1.568881</td>\n",
              "    </tr>\n",
              "    <tr>\n",
              "      <th>2</th>\n",
              "      <td>0</td>\n",
              "      <td>1</td>\n",
              "      <td>0</td>\n",
              "      <td>0</td>\n",
              "      <td>0</td>\n",
              "      <td>0</td>\n",
              "      <td>0</td>\n",
              "      <td>0</td>\n",
              "      <td>-0.063610</td>\n",
              "      <td>-0.107137</td>\n",
              "      <td>0.531849</td>\n",
              "      <td>-1.588161</td>\n",
              "      <td>0.079982</td>\n",
              "      <td>-1.455174</td>\n",
              "    </tr>\n",
              "    <tr>\n",
              "      <th>3</th>\n",
              "      <td>0</td>\n",
              "      <td>1</td>\n",
              "      <td>0</td>\n",
              "      <td>0</td>\n",
              "      <td>0</td>\n",
              "      <td>0</td>\n",
              "      <td>0</td>\n",
              "      <td>0</td>\n",
              "      <td>-0.063610</td>\n",
              "      <td>-0.043411</td>\n",
              "      <td>0.531849</td>\n",
              "      <td>-1.588161</td>\n",
              "      <td>0.079982</td>\n",
              "      <td>-1.341466</td>\n",
              "    </tr>\n",
              "    <tr>\n",
              "      <th>4</th>\n",
              "      <td>0</td>\n",
              "      <td>1</td>\n",
              "      <td>0</td>\n",
              "      <td>0</td>\n",
              "      <td>0</td>\n",
              "      <td>0</td>\n",
              "      <td>0</td>\n",
              "      <td>0</td>\n",
              "      <td>-0.298782</td>\n",
              "      <td>-0.043411</td>\n",
              "      <td>0.465192</td>\n",
              "      <td>-1.588161</td>\n",
              "      <td>0.079982</td>\n",
              "      <td>-1.227759</td>\n",
              "    </tr>\n",
              "    <tr>\n",
              "      <th>...</th>\n",
              "      <td>...</td>\n",
              "      <td>...</td>\n",
              "      <td>...</td>\n",
              "      <td>...</td>\n",
              "      <td>...</td>\n",
              "      <td>...</td>\n",
              "      <td>...</td>\n",
              "      <td>...</td>\n",
              "      <td>...</td>\n",
              "      <td>...</td>\n",
              "      <td>...</td>\n",
              "      <td>...</td>\n",
              "      <td>...</td>\n",
              "      <td>...</td>\n",
              "    </tr>\n",
              "    <tr>\n",
              "      <th>119035</th>\n",
              "      <td>0</td>\n",
              "      <td>0</td>\n",
              "      <td>0</td>\n",
              "      <td>0</td>\n",
              "      <td>0</td>\n",
              "      <td>0</td>\n",
              "      <td>0</td>\n",
              "      <td>1</td>\n",
              "      <td>-0.298782</td>\n",
              "      <td>0.147770</td>\n",
              "      <td>0.065249</td>\n",
              "      <td>1.051027</td>\n",
              "      <td>1.539604</td>\n",
              "      <td>1.273804</td>\n",
              "    </tr>\n",
              "    <tr>\n",
              "      <th>119036</th>\n",
              "      <td>0</td>\n",
              "      <td>0</td>\n",
              "      <td>0</td>\n",
              "      <td>0</td>\n",
              "      <td>0</td>\n",
              "      <td>0</td>\n",
              "      <td>0</td>\n",
              "      <td>1</td>\n",
              "      <td>0.618391</td>\n",
              "      <td>0.275223</td>\n",
              "      <td>0.065249</td>\n",
              "      <td>1.051027</td>\n",
              "      <td>1.539604</td>\n",
              "      <td>1.387511</td>\n",
              "    </tr>\n",
              "    <tr>\n",
              "      <th>119037</th>\n",
              "      <td>0</td>\n",
              "      <td>0</td>\n",
              "      <td>0</td>\n",
              "      <td>0</td>\n",
              "      <td>0</td>\n",
              "      <td>0</td>\n",
              "      <td>0</td>\n",
              "      <td>1</td>\n",
              "      <td>-0.298782</td>\n",
              "      <td>0.147770</td>\n",
              "      <td>0.065249</td>\n",
              "      <td>1.051027</td>\n",
              "      <td>1.539604</td>\n",
              "      <td>1.501218</td>\n",
              "    </tr>\n",
              "    <tr>\n",
              "      <th>119038</th>\n",
              "      <td>0</td>\n",
              "      <td>0</td>\n",
              "      <td>0</td>\n",
              "      <td>0</td>\n",
              "      <td>0</td>\n",
              "      <td>0</td>\n",
              "      <td>0</td>\n",
              "      <td>1</td>\n",
              "      <td>-0.298782</td>\n",
              "      <td>0.147770</td>\n",
              "      <td>0.065249</td>\n",
              "      <td>1.051027</td>\n",
              "      <td>1.539604</td>\n",
              "      <td>1.614926</td>\n",
              "    </tr>\n",
              "    <tr>\n",
              "      <th>119039</th>\n",
              "      <td>0</td>\n",
              "      <td>0</td>\n",
              "      <td>0</td>\n",
              "      <td>0</td>\n",
              "      <td>0</td>\n",
              "      <td>0</td>\n",
              "      <td>0</td>\n",
              "      <td>1</td>\n",
              "      <td>-0.298782</td>\n",
              "      <td>0.275223</td>\n",
              "      <td>-0.068065</td>\n",
              "      <td>1.051027</td>\n",
              "      <td>1.539604</td>\n",
              "      <td>1.728633</td>\n",
              "    </tr>\n",
              "  </tbody>\n",
              "</table>\n",
              "<p>119040 rows × 14 columns</p>\n",
              "</div>\n",
              "    <div class=\"colab-df-buttons\">\n",
              "\n",
              "  <div class=\"colab-df-container\">\n",
              "    <button class=\"colab-df-convert\" onclick=\"convertToInteractive('df-05807fd5-f74f-464d-b159-649b14086a7d')\"\n",
              "            title=\"Convert this dataframe to an interactive table.\"\n",
              "            style=\"display:none;\">\n",
              "\n",
              "  <svg xmlns=\"http://www.w3.org/2000/svg\" height=\"24px\" viewBox=\"0 -960 960 960\">\n",
              "    <path d=\"M120-120v-720h720v720H120Zm60-500h600v-160H180v160Zm220 220h160v-160H400v160Zm0 220h160v-160H400v160ZM180-400h160v-160H180v160Zm440 0h160v-160H620v160ZM180-180h160v-160H180v160Zm440 0h160v-160H620v160Z\"/>\n",
              "  </svg>\n",
              "    </button>\n",
              "\n",
              "  <style>\n",
              "    .colab-df-container {\n",
              "      display:flex;\n",
              "      gap: 12px;\n",
              "    }\n",
              "\n",
              "    .colab-df-convert {\n",
              "      background-color: #E8F0FE;\n",
              "      border: none;\n",
              "      border-radius: 50%;\n",
              "      cursor: pointer;\n",
              "      display: none;\n",
              "      fill: #1967D2;\n",
              "      height: 32px;\n",
              "      padding: 0 0 0 0;\n",
              "      width: 32px;\n",
              "    }\n",
              "\n",
              "    .colab-df-convert:hover {\n",
              "      background-color: #E2EBFA;\n",
              "      box-shadow: 0px 1px 2px rgba(60, 64, 67, 0.3), 0px 1px 3px 1px rgba(60, 64, 67, 0.15);\n",
              "      fill: #174EA6;\n",
              "    }\n",
              "\n",
              "    .colab-df-buttons div {\n",
              "      margin-bottom: 4px;\n",
              "    }\n",
              "\n",
              "    [theme=dark] .colab-df-convert {\n",
              "      background-color: #3B4455;\n",
              "      fill: #D2E3FC;\n",
              "    }\n",
              "\n",
              "    [theme=dark] .colab-df-convert:hover {\n",
              "      background-color: #434B5C;\n",
              "      box-shadow: 0px 1px 3px 1px rgba(0, 0, 0, 0.15);\n",
              "      filter: drop-shadow(0px 1px 2px rgba(0, 0, 0, 0.3));\n",
              "      fill: #FFFFFF;\n",
              "    }\n",
              "  </style>\n",
              "\n",
              "    <script>\n",
              "      const buttonEl =\n",
              "        document.querySelector('#df-05807fd5-f74f-464d-b159-649b14086a7d button.colab-df-convert');\n",
              "      buttonEl.style.display =\n",
              "        google.colab.kernel.accessAllowed ? 'block' : 'none';\n",
              "\n",
              "      async function convertToInteractive(key) {\n",
              "        const element = document.querySelector('#df-05807fd5-f74f-464d-b159-649b14086a7d');\n",
              "        const dataTable =\n",
              "          await google.colab.kernel.invokeFunction('convertToInteractive',\n",
              "                                                    [key], {});\n",
              "        if (!dataTable) return;\n",
              "\n",
              "        const docLinkHtml = 'Like what you see? Visit the ' +\n",
              "          '<a target=\"_blank\" href=https://colab.research.google.com/notebooks/data_table.ipynb>data table notebook</a>'\n",
              "          + ' to learn more about interactive tables.';\n",
              "        element.innerHTML = '';\n",
              "        dataTable['output_type'] = 'display_data';\n",
              "        await google.colab.output.renderOutput(dataTable, element);\n",
              "        const docLink = document.createElement('div');\n",
              "        docLink.innerHTML = docLinkHtml;\n",
              "        element.appendChild(docLink);\n",
              "      }\n",
              "    </script>\n",
              "  </div>\n",
              "\n",
              "\n",
              "<div id=\"df-25fbabe9-ffe5-4a18-99b3-e9d879441762\">\n",
              "  <button class=\"colab-df-quickchart\" onclick=\"quickchart('df-25fbabe9-ffe5-4a18-99b3-e9d879441762')\"\n",
              "            title=\"Suggest charts\"\n",
              "            style=\"display:none;\">\n",
              "\n",
              "<svg xmlns=\"http://www.w3.org/2000/svg\" height=\"24px\"viewBox=\"0 0 24 24\"\n",
              "     width=\"24px\">\n",
              "    <g>\n",
              "        <path d=\"M19 3H5c-1.1 0-2 .9-2 2v14c0 1.1.9 2 2 2h14c1.1 0 2-.9 2-2V5c0-1.1-.9-2-2-2zM9 17H7v-7h2v7zm4 0h-2V7h2v10zm4 0h-2v-4h2v4z\"/>\n",
              "    </g>\n",
              "</svg>\n",
              "  </button>\n",
              "\n",
              "<style>\n",
              "  .colab-df-quickchart {\n",
              "      --bg-color: #E8F0FE;\n",
              "      --fill-color: #1967D2;\n",
              "      --hover-bg-color: #E2EBFA;\n",
              "      --hover-fill-color: #174EA6;\n",
              "      --disabled-fill-color: #AAA;\n",
              "      --disabled-bg-color: #DDD;\n",
              "  }\n",
              "\n",
              "  [theme=dark] .colab-df-quickchart {\n",
              "      --bg-color: #3B4455;\n",
              "      --fill-color: #D2E3FC;\n",
              "      --hover-bg-color: #434B5C;\n",
              "      --hover-fill-color: #FFFFFF;\n",
              "      --disabled-bg-color: #3B4455;\n",
              "      --disabled-fill-color: #666;\n",
              "  }\n",
              "\n",
              "  .colab-df-quickchart {\n",
              "    background-color: var(--bg-color);\n",
              "    border: none;\n",
              "    border-radius: 50%;\n",
              "    cursor: pointer;\n",
              "    display: none;\n",
              "    fill: var(--fill-color);\n",
              "    height: 32px;\n",
              "    padding: 0;\n",
              "    width: 32px;\n",
              "  }\n",
              "\n",
              "  .colab-df-quickchart:hover {\n",
              "    background-color: var(--hover-bg-color);\n",
              "    box-shadow: 0 1px 2px rgba(60, 64, 67, 0.3), 0 1px 3px 1px rgba(60, 64, 67, 0.15);\n",
              "    fill: var(--button-hover-fill-color);\n",
              "  }\n",
              "\n",
              "  .colab-df-quickchart-complete:disabled,\n",
              "  .colab-df-quickchart-complete:disabled:hover {\n",
              "    background-color: var(--disabled-bg-color);\n",
              "    fill: var(--disabled-fill-color);\n",
              "    box-shadow: none;\n",
              "  }\n",
              "\n",
              "  .colab-df-spinner {\n",
              "    border: 2px solid var(--fill-color);\n",
              "    border-color: transparent;\n",
              "    border-bottom-color: var(--fill-color);\n",
              "    animation:\n",
              "      spin 1s steps(1) infinite;\n",
              "  }\n",
              "\n",
              "  @keyframes spin {\n",
              "    0% {\n",
              "      border-color: transparent;\n",
              "      border-bottom-color: var(--fill-color);\n",
              "      border-left-color: var(--fill-color);\n",
              "    }\n",
              "    20% {\n",
              "      border-color: transparent;\n",
              "      border-left-color: var(--fill-color);\n",
              "      border-top-color: var(--fill-color);\n",
              "    }\n",
              "    30% {\n",
              "      border-color: transparent;\n",
              "      border-left-color: var(--fill-color);\n",
              "      border-top-color: var(--fill-color);\n",
              "      border-right-color: var(--fill-color);\n",
              "    }\n",
              "    40% {\n",
              "      border-color: transparent;\n",
              "      border-right-color: var(--fill-color);\n",
              "      border-top-color: var(--fill-color);\n",
              "    }\n",
              "    60% {\n",
              "      border-color: transparent;\n",
              "      border-right-color: var(--fill-color);\n",
              "    }\n",
              "    80% {\n",
              "      border-color: transparent;\n",
              "      border-right-color: var(--fill-color);\n",
              "      border-bottom-color: var(--fill-color);\n",
              "    }\n",
              "    90% {\n",
              "      border-color: transparent;\n",
              "      border-bottom-color: var(--fill-color);\n",
              "    }\n",
              "  }\n",
              "</style>\n",
              "\n",
              "  <script>\n",
              "    async function quickchart(key) {\n",
              "      const quickchartButtonEl =\n",
              "        document.querySelector('#' + key + ' button');\n",
              "      quickchartButtonEl.disabled = true;  // To prevent multiple clicks.\n",
              "      quickchartButtonEl.classList.add('colab-df-spinner');\n",
              "      try {\n",
              "        const charts = await google.colab.kernel.invokeFunction(\n",
              "            'suggestCharts', [key], {});\n",
              "      } catch (error) {\n",
              "        console.error('Error during call to suggestCharts:', error);\n",
              "      }\n",
              "      quickchartButtonEl.classList.remove('colab-df-spinner');\n",
              "      quickchartButtonEl.classList.add('colab-df-quickchart-complete');\n",
              "    }\n",
              "    (() => {\n",
              "      let quickchartButtonEl =\n",
              "        document.querySelector('#df-25fbabe9-ffe5-4a18-99b3-e9d879441762 button');\n",
              "      quickchartButtonEl.style.display =\n",
              "        google.colab.kernel.accessAllowed ? 'block' : 'none';\n",
              "    })();\n",
              "  </script>\n",
              "</div>\n",
              "\n",
              "  <div id=\"id_08a8301b-4586-4836-93e7-d445170fd3d1\">\n",
              "    <style>\n",
              "      .colab-df-generate {\n",
              "        background-color: #E8F0FE;\n",
              "        border: none;\n",
              "        border-radius: 50%;\n",
              "        cursor: pointer;\n",
              "        display: none;\n",
              "        fill: #1967D2;\n",
              "        height: 32px;\n",
              "        padding: 0 0 0 0;\n",
              "        width: 32px;\n",
              "      }\n",
              "\n",
              "      .colab-df-generate:hover {\n",
              "        background-color: #E2EBFA;\n",
              "        box-shadow: 0px 1px 2px rgba(60, 64, 67, 0.3), 0px 1px 3px 1px rgba(60, 64, 67, 0.15);\n",
              "        fill: #174EA6;\n",
              "      }\n",
              "\n",
              "      [theme=dark] .colab-df-generate {\n",
              "        background-color: #3B4455;\n",
              "        fill: #D2E3FC;\n",
              "      }\n",
              "\n",
              "      [theme=dark] .colab-df-generate:hover {\n",
              "        background-color: #434B5C;\n",
              "        box-shadow: 0px 1px 3px 1px rgba(0, 0, 0, 0.15);\n",
              "        filter: drop-shadow(0px 1px 2px rgba(0, 0, 0, 0.3));\n",
              "        fill: #FFFFFF;\n",
              "      }\n",
              "    </style>\n",
              "    <button class=\"colab-df-generate\" onclick=\"generateWithVariable('data')\"\n",
              "            title=\"Generate code using this dataframe.\"\n",
              "            style=\"display:none;\">\n",
              "\n",
              "  <svg xmlns=\"http://www.w3.org/2000/svg\" height=\"24px\"viewBox=\"0 0 24 24\"\n",
              "       width=\"24px\">\n",
              "    <path d=\"M7,19H8.4L18.45,9,17,7.55,7,17.6ZM5,21V16.75L18.45,3.32a2,2,0,0,1,2.83,0l1.4,1.43a1.91,1.91,0,0,1,.58,1.4,1.91,1.91,0,0,1-.58,1.4L9.25,21ZM18.45,9,17,7.55Zm-12,3A5.31,5.31,0,0,0,4.9,8.1,5.31,5.31,0,0,0,1,6.5,5.31,5.31,0,0,0,4.9,4.9,5.31,5.31,0,0,0,6.5,1,5.31,5.31,0,0,0,8.1,4.9,5.31,5.31,0,0,0,12,6.5,5.46,5.46,0,0,0,6.5,12Z\"/>\n",
              "  </svg>\n",
              "    </button>\n",
              "    <script>\n",
              "      (() => {\n",
              "      const buttonEl =\n",
              "        document.querySelector('#id_08a8301b-4586-4836-93e7-d445170fd3d1 button.colab-df-generate');\n",
              "      buttonEl.style.display =\n",
              "        google.colab.kernel.accessAllowed ? 'block' : 'none';\n",
              "\n",
              "      buttonEl.onclick = () => {\n",
              "        google.colab.notebook.generateWithVariable('data');\n",
              "      }\n",
              "      })();\n",
              "    </script>\n",
              "  </div>\n",
              "\n",
              "    </div>\n",
              "  </div>\n"
            ],
            "application/vnd.google.colaboratory.intrinsic+json": {
              "type": "dataframe",
              "variable_name": "data"
            }
          },
          "metadata": {},
          "execution_count": 14
        }
      ],
      "source": [
        "data"
      ]
    },
    {
      "cell_type": "code",
      "execution_count": null,
      "metadata": {
        "id": "9x-x3EPVKhit"
      },
      "outputs": [],
      "source": [
        "X = data.drop('MaxTemp', axis=1)\n",
        "y = data['MaxTemp']"
      ]
    },
    {
      "cell_type": "code",
      "execution_count": null,
      "metadata": {
        "id": "sS3jFSljTGjB"
      },
      "outputs": [],
      "source": [
        "X_train, X_test, y_train, y_test = train_test_split(X, y, test_size=0.2, shuffle=True)"
      ]
    },
    {
      "cell_type": "markdown",
      "metadata": {
        "id": "-GVFPGkQEQo1"
      },
      "source": [
        "## Feature Importance"
      ]
    },
    {
      "cell_type": "code",
      "execution_count": null,
      "metadata": {
        "id": "gWiGPfQoUFE2"
      },
      "outputs": [],
      "source": [
        "# decision tree feature importances\n",
        "model = DecisionTreeRegressor()\n",
        "model.fit(X, y)\n",
        "importance = model.feature_importances_"
      ]
    },
    {
      "cell_type": "code",
      "execution_count": null,
      "metadata": {
        "id": "319hjdJuDPNg",
        "colab": {
          "base_uri": "https://localhost:8080/",
          "height": 656
        },
        "outputId": "6c19486f-c2a2-4a85-9129-d4fced53baac"
      },
      "outputs": [
        {
          "output_type": "stream",
          "name": "stdout",
          "text": [
            "Feature: 0, Score: 0.00401\n",
            "Feature: 1, Score: 0.00460\n",
            "Feature: 2, Score: 0.00362\n",
            "Feature: 3, Score: 0.00428\n",
            "Feature: 4, Score: 0.00436\n",
            "Feature: 5, Score: 0.00289\n",
            "Feature: 6, Score: 0.00257\n",
            "Feature: 7, Score: 0.00325\n",
            "Feature: 8, Score: 0.03935\n",
            "Feature: 9, Score: 0.83064\n",
            "Feature: 10, Score: 0.02087\n",
            "Feature: 11, Score: 0.03046\n",
            "Feature: 12, Score: 0.04910\n"
          ]
        },
        {
          "output_type": "display_data",
          "data": {
            "text/plain": [
              "<Figure size 640x480 with 1 Axes>"
            ],
            "image/png": "[encoded data removed]"
          },
          "metadata": {}
        }
      ],
      "source": [
        "for i,v in enumerate(importance):\n",
        " print('Feature: %0d, Score: %.5f' % (i,v))\n",
        "# plot feature importance\n",
        "plt.bar([x for x in range(len(importance))], importance)\n",
        "plt.show()"
      ]
    },
    {
      "cell_type": "code",
      "execution_count": null,
      "metadata": {
        "id": "tvwFHwiqEdtF",
        "colab": {
          "base_uri": "https://localhost:8080/",
          "height": 656
        },
        "outputId": "7c082e89-643b-4ba1-f59f-c6c1a1f8cb6d"
      },
      "outputs": [
        {
          "output_type": "stream",
          "name": "stdout",
          "text": [
            "Feature: 0, Score: 0.03394\n",
            "Feature: 1, Score: 0.01241\n",
            "Feature: 2, Score: 0.05893\n",
            "Feature: 3, Score: 0.03244\n",
            "Feature: 4, Score: 0.01563\n",
            "Feature: 5, Score: 0.02014\n",
            "Feature: 6, Score: 0.01540\n",
            "Feature: 7, Score: 0.01039\n",
            "Feature: 8, Score: 0.06224\n",
            "Feature: 9, Score: 0.70235\n",
            "Feature: 10, Score: 0.01735\n",
            "Feature: 11, Score: 0.01467\n",
            "Feature: 12, Score: 0.00412\n"
          ]
        },
        {
          "output_type": "display_data",
          "data": {
            "text/plain": [
              "<Figure size 640x480 with 1 Axes>"
            ],
            "image/png": "[encoded data removed]"
          },
          "metadata": {}
        }
      ],
      "source": [
        "from xgboost import XGBRegressor\n",
        "\n",
        "# xgboost feature importances\n",
        "model = XGBRegressor()\n",
        "model.fit(X, y)\n",
        "importance = model.feature_importances_\n",
        "\n",
        "for i,v in enumerate(importance):\n",
        " print('Feature: %0d, Score: %.5f' % (i,v))\n",
        "# plot feature importance\n",
        "plt.bar([x for x in range(len(importance))], importance)\n",
        "plt.show()"
      ]
    },
    {
      "cell_type": "markdown",
      "metadata": {
        "id": "zJWCVC3eFPk4"
      },
      "source": [
        "## Algorithms Comparison with cross validation"
      ]
    },
    {
      "cell_type": "code",
      "execution_count": null,
      "metadata": {
        "id": "CL5P4gyJFPKg"
      },
      "outputs": [],
      "source": [
        "# Linear Regression/ Polynomial Regression\n",
        "# SVR\n",
        "# Decision Tree\n",
        "# Random Forest\n",
        "# Ridge/ Lasso Regression\n",
        "# Poisson Regression\n",
        "# Gaussian Regression"
      ]
    },
    {
      "cell_type": "code",
      "execution_count": null,
      "metadata": {
        "id": "SBMNaRuBE21t"
      },
      "outputs": [],
      "source": [
        "scores_r2 = {}\n",
        "scores_mae = {}\n",
        "scores_mse = {}\n",
        "scores_rmse = {}"
      ]
    },
    {
      "cell_type": "code",
      "execution_count": null,
      "metadata": {
        "id": "alkL6onKFa8-"
      },
      "outputs": [],
      "source": [
        "def show_scores():\n",
        "  print(f'''r2 score: {scores_r2},\n",
        "mae score: {scores_mae},\n",
        "mse score: {scores_mse},\n",
        "rmse score: {scores_rmse}''')"
      ]
    },
    {
      "cell_type": "markdown",
      "metadata": {
        "id": "zzaCzBjtFvSB"
      },
      "source": [
        "Linear Regression"
      ]
    },
    {
      "cell_type": "code",
      "execution_count": null,
      "metadata": {
        "id": "XijFMqPyFgkL",
        "colab": {
          "base_uri": "https://localhost:8080/",
          "height": 74
        },
        "outputId": "69efb94f-f3df-4b26-9cdb-fadfb69f8214"
      },
      "outputs": [
        {
          "output_type": "execute_result",
          "data": {
            "text/plain": [
              "LinearRegression()"
            ],
            "text/html": [
              "<style>#sk-container-id-1 {color: black;background-color: white;}#sk-container-id-1 pre{padding: 0;}#sk-container-id-1 div.sk-toggleable {background-color: white;}#sk-container-id-1 label.sk-toggleable__label {cursor: pointer;display: block;width: 100%;margin-bottom: 0;padding: 0.3em;box-sizing: border-box;text-align: center;}#sk-container-id-1 label.sk-toggleable__label-arrow:before {content: \"▸\";float: left;margin-right: 0.25em;color: #696969;}#sk-container-id-1 label.sk-toggleable__label-arrow:hover:before {color: black;}#sk-container-id-1 div.sk-estimator:hover label.sk-toggleable__label-arrow:before {color: black;}#sk-container-id-1 div.sk-toggleable__content {max-height: 0;max-width: 0;overflow: hidden;text-align: left;background-color: #f0f8ff;}#sk-container-id-1 div.sk-toggleable__content pre {margin: 0.2em;color: black;border-radius: 0.25em;background-color: #f0f8ff;}#sk-container-id-1 input.sk-toggleable__control:checked~div.sk-toggleable__content {max-height: 200px;max-width: 100%;overflow: auto;}#sk-container-id-1 input.sk-toggleable__control:checked~label.sk-toggleable__label-arrow:before {content: \"▾\";}#sk-container-id-1 div.sk-estimator input.sk-toggleable__control:checked~label.sk-toggleable__label {background-color: #d4ebff;}#sk-container-id-1 div.sk-label input.sk-toggleable__control:checked~label.sk-toggleable__label {background-color: #d4ebff;}#sk-container-id-1 input.sk-hidden--visually {border: 0;clip: rect(1px 1px 1px 1px);clip: rect(1px, 1px, 1px, 1px);height: 1px;margin: -1px;overflow: hidden;padding: 0;position: absolute;width: 1px;}#sk-container-id-1 div.sk-estimator {font-family: monospace;background-color: #f0f8ff;border: 1px dotted black;border-radius: 0.25em;box-sizing: border-box;margin-bottom: 0.5em;}#sk-container-id-1 div.sk-estimator:hover {background-color: #d4ebff;}#sk-container-id-1 div.sk-parallel-item::after {content: \"\";width: 100%;border-bottom: 1px solid gray;flex-grow: 1;}#sk-container-id-1 div.sk-label:hover label.sk-toggleable__label {background-color: #d4ebff;}#sk-container-id-1 div.sk-serial::before {content: \"\";position: absolute;border-left: 1px solid gray;box-sizing: border-box;top: 0;bottom: 0;left: 50%;z-index: 0;}#sk-container-id-1 div.sk-serial {display: flex;flex-direction: column;align-items: center;background-color: white;padding-right: 0.2em;padding-left: 0.2em;position: relative;}#sk-container-id-1 div.sk-item {position: relative;z-index: 1;}#sk-container-id-1 div.sk-parallel {display: flex;align-items: stretch;justify-content: center;background-color: white;position: relative;}#sk-container-id-1 div.sk-item::before, #sk-container-id-1 div.sk-parallel-item::before {content: \"\";position: absolute;border-left: 1px solid gray;box-sizing: border-box;top: 0;bottom: 0;left: 50%;z-index: -1;}#sk-container-id-1 div.sk-parallel-item {display: flex;flex-direction: column;z-index: 1;position: relative;background-color: white;}#sk-container-id-1 div.sk-parallel-item:first-child::after {align-self: flex-end;width: 50%;}#sk-container-id-1 div.sk-parallel-item:last-child::after {align-self: flex-start;width: 50%;}#sk-container-id-1 div.sk-parallel-item:only-child::after {width: 0;}#sk-container-id-1 div.sk-dashed-wrapped {border: 1px dashed gray;margin: 0 0.4em 0.5em 0.4em;box-sizing: border-box;padding-bottom: 0.4em;background-color: white;}#sk-container-id-1 div.sk-label label {font-family: monospace;font-weight: bold;display: inline-block;line-height: 1.2em;}#sk-container-id-1 div.sk-label-container {text-align: center;}#sk-container-id-1 div.sk-container {/* jupyter's `normalize.less` sets `[hidden] { display: none; }` but bootstrap.min.css set `[hidden] { display: none !important; }` so we also need the `!important` here to be able to override the default hidden behavior on the sphinx rendered scikit-learn.org. See: https://github.com/scikit-learn/scikit-learn/issues/21755 */display: inline-block !important;position: relative;}#sk-container-id-1 div.sk-text-repr-fallback {display: none;}</style><div id=\"sk-container-id-1\" class=\"sk-top-container\"><div class=\"sk-text-repr-fallback\"><pre>LinearRegression()</pre><b>In a Jupyter environment, please rerun this cell to show the HTML representation or trust the notebook. <br />On GitHub, the HTML representation is unable to render, please try loading this page with nbviewer.org.</b></div><div class=\"sk-container\" hidden><div class=\"sk-item\"><div class=\"sk-estimator sk-toggleable\"><input class=\"sk-toggleable__control sk-hidden--visually\" id=\"sk-estimator-id-1\" type=\"checkbox\" checked><label for=\"sk-estimator-id-1\" class=\"sk-toggleable__label sk-toggleable__label-arrow\">LinearRegression</label><div class=\"sk-toggleable__content\"><pre>LinearRegression()</pre></div></div></div></div></div>"
            ]
          },
          "metadata": {},
          "execution_count": 23
        }
      ],
      "source": [
        "lin1 = LinearRegression()\n",
        "lin1.fit(X_train, y_train)"
      ]
    },
    {
      "cell_type": "code",
      "execution_count": null,
      "metadata": {
        "id": "Tl809XdOF-aI",
        "colab": {
          "base_uri": "https://localhost:8080/"
        },
        "outputId": "961277e5-00b8-47d1-c557-47481cbd6f42"
      },
      "outputs": [
        {
          "output_type": "stream",
          "name": "stdout",
          "text": [
            "Scoring metric: r2\n",
            "[0.8006176  0.78867319 0.79534965 0.79852416 0.79788601]\n",
            "Avg : 0.796210122679969\n",
            "\n",
            "\n",
            "Scoring metric: neg_mean_absolute_error\n",
            "[-0.34880445 -0.35067208 -0.34782492 -0.34939331 -0.35436625]\n",
            "Avg : -0.35021220383106844\n",
            "\n",
            "\n",
            "Scoring metric: neg_mean_squared_error\n",
            "[-0.20596704 -0.21208556 -0.20599018 -0.21004032 -0.21497034]\n",
            "Avg : -0.20981068732254218\n",
            "\n",
            "\n",
            "Scoring metric: neg_root_mean_squared_error\n",
            "[-0.45383592 -0.46052748 -0.45386141 -0.45830156 -0.46364894]\n",
            "Avg : -0.45803506102390906\n",
            "\n",
            "\n"
          ]
        }
      ],
      "source": [
        "scores = ['r2', 'neg_mean_absolute_error', 'neg_mean_squared_error', 'neg_root_mean_squared_error']\n",
        "scores_dict = [scores_r2, scores_mae, scores_mse, scores_rmse]\n",
        "\n",
        "for x, score_dict in zip(scores, scores_dict):\n",
        "  score_lr = cross_val_score(lin1, X_test, y_test,cv=5, scoring=x)\n",
        "  print('Scoring metric:', x)\n",
        "  print(score_lr)\n",
        "  print(\"Avg :\",np.average(score_lr))\n",
        "  print('\\n')\n",
        "  score_dict['Linear Regression'] = np.average(score_lr)"
      ]
    },
    {
      "cell_type": "markdown",
      "source": [
        "Polynomial Regression"
      ],
      "metadata": {
        "id": "0PxEfBuSeO6q"
      }
    },
    {
      "cell_type": "code",
      "source": [
        "poly = PolynomialFeatures(degree=3)\n",
        "X_poly = poly.fit_transform(X_train.to_numpy())\n",
        "\n",
        "poly.fit(X_poly, y_train)\n",
        "lin2 = LinearRegression()\n",
        "lin2.fit(X_poly, y_train)"
      ],
      "metadata": {
        "id": "DLYLldc_eSiB",
        "colab": {
          "base_uri": "https://localhost:8080/",
          "height": 74
        },
        "outputId": "397de623-a93c-4a12-e88e-4cdb25a151dd"
      },
      "execution_count": null,
      "outputs": [
        {
          "output_type": "execute_result",
          "data": {
            "text/plain": [
              "LinearRegression()"
            ],
            "text/html": [
              "<style>#sk-container-id-2 {color: black;background-color: white;}#sk-container-id-2 pre{padding: 0;}#sk-container-id-2 div.sk-toggleable {background-color: white;}#sk-container-id-2 label.sk-toggleable__label {cursor: pointer;display: block;width: 100%;margin-bottom: 0;padding: 0.3em;box-sizing: border-box;text-align: center;}#sk-container-id-2 label.sk-toggleable__label-arrow:before {content: \"▸\";float: left;margin-right: 0.25em;color: #696969;}#sk-container-id-2 label.sk-toggleable__label-arrow:hover:before {color: black;}#sk-container-id-2 div.sk-estimator:hover label.sk-toggleable__label-arrow:before {color: black;}#sk-container-id-2 div.sk-toggleable__content {max-height: 0;max-width: 0;overflow: hidden;text-align: left;background-color: #f0f8ff;}#sk-container-id-2 div.sk-toggleable__content pre {margin: 0.2em;color: black;border-radius: 0.25em;background-color: #f0f8ff;}#sk-container-id-2 input.sk-toggleable__control:checked~div.sk-toggleable__content {max-height: 200px;max-width: 100%;overflow: auto;}#sk-container-id-2 input.sk-toggleable__control:checked~label.sk-toggleable__label-arrow:before {content: \"▾\";}#sk-container-id-2 div.sk-estimator input.sk-toggleable__control:checked~label.sk-toggleable__label {background-color: #d4ebff;}#sk-container-id-2 div.sk-label input.sk-toggleable__control:checked~label.sk-toggleable__label {background-color: #d4ebff;}#sk-container-id-2 input.sk-hidden--visually {border: 0;clip: rect(1px 1px 1px 1px);clip: rect(1px, 1px, 1px, 1px);height: 1px;margin: -1px;overflow: hidden;padding: 0;position: absolute;width: 1px;}#sk-container-id-2 div.sk-estimator {font-family: monospace;background-color: #f0f8ff;border: 1px dotted black;border-radius: 0.25em;box-sizing: border-box;margin-bottom: 0.5em;}#sk-container-id-2 div.sk-estimator:hover {background-color: #d4ebff;}#sk-container-id-2 div.sk-parallel-item::after {content: \"\";width: 100%;border-bottom: 1px solid gray;flex-grow: 1;}#sk-container-id-2 div.sk-label:hover label.sk-toggleable__label {background-color: #d4ebff;}#sk-container-id-2 div.sk-serial::before {content: \"\";position: absolute;border-left: 1px solid gray;box-sizing: border-box;top: 0;bottom: 0;left: 50%;z-index: 0;}#sk-container-id-2 div.sk-serial {display: flex;flex-direction: column;align-items: center;background-color: white;padding-right: 0.2em;padding-left: 0.2em;position: relative;}#sk-container-id-2 div.sk-item {position: relative;z-index: 1;}#sk-container-id-2 div.sk-parallel {display: flex;align-items: stretch;justify-content: center;background-color: white;position: relative;}#sk-container-id-2 div.sk-item::before, #sk-container-id-2 div.sk-parallel-item::before {content: \"\";position: absolute;border-left: 1px solid gray;box-sizing: border-box;top: 0;bottom: 0;left: 50%;z-index: -1;}#sk-container-id-2 div.sk-parallel-item {display: flex;flex-direction: column;z-index: 1;position: relative;background-color: white;}#sk-container-id-2 div.sk-parallel-item:first-child::after {align-self: flex-end;width: 50%;}#sk-container-id-2 div.sk-parallel-item:last-child::after {align-self: flex-start;width: 50%;}#sk-container-id-2 div.sk-parallel-item:only-child::after {width: 0;}#sk-container-id-2 div.sk-dashed-wrapped {border: 1px dashed gray;margin: 0 0.4em 0.5em 0.4em;box-sizing: border-box;padding-bottom: 0.4em;background-color: white;}#sk-container-id-2 div.sk-label label {font-family: monospace;font-weight: bold;display: inline-block;line-height: 1.2em;}#sk-container-id-2 div.sk-label-container {text-align: center;}#sk-container-id-2 div.sk-container {/* jupyter's `normalize.less` sets `[hidden] { display: none; }` but bootstrap.min.css set `[hidden] { display: none !important; }` so we also need the `!important` here to be able to override the default hidden behavior on the sphinx rendered scikit-learn.org. See: https://github.com/scikit-learn/scikit-learn/issues/21755 */display: inline-block !important;position: relative;}#sk-container-id-2 div.sk-text-repr-fallback {display: none;}</style><div id=\"sk-container-id-2\" class=\"sk-top-container\"><div class=\"sk-text-repr-fallback\"><pre>LinearRegression()</pre><b>In a Jupyter environment, please rerun this cell to show the HTML representation or trust the notebook. <br />On GitHub, the HTML representation is unable to render, please try loading this page with nbviewer.org.</b></div><div class=\"sk-container\" hidden><div class=\"sk-item\"><div class=\"sk-estimator sk-toggleable\"><input class=\"sk-toggleable__control sk-hidden--visually\" id=\"sk-estimator-id-2\" type=\"checkbox\" checked><label for=\"sk-estimator-id-2\" class=\"sk-toggleable__label sk-toggleable__label-arrow\">LinearRegression</label><div class=\"sk-toggleable__content\"><pre>LinearRegression()</pre></div></div></div></div></div>"
            ]
          },
          "metadata": {},
          "execution_count": 25
        }
      ]
    },
    {
      "cell_type": "code",
      "source": [
        "scores = ['r2', 'neg_mean_absolute_error', 'neg_mean_squared_error', 'neg_root_mean_squared_error']\n",
        "scores_dict = [scores_r2, scores_mae, scores_mse, scores_rmse]\n",
        "\n",
        "for x, score_dict in zip(scores, scores_dict):\n",
        "  score_lr = cross_val_score(lin2, poly.fit_transform(X_test.to_numpy()), y_test,cv=5, scoring=x)\n",
        "  print('Scoring metric:', x)\n",
        "  print(score_lr)\n",
        "  print(\"Avg :\",np.average(score_lr))\n",
        "  print('\\n')\n",
        "  score_dict['Polynomial Regression'] = np.average(score_lr)"
      ],
      "metadata": {
        "id": "WKNNQQXGeSPB",
        "colab": {
          "base_uri": "https://localhost:8080/"
        },
        "outputId": "f2c22733-a987-40c1-8e23-63cedc8f5f18"
      },
      "execution_count": null,
      "outputs": [
        {
          "output_type": "stream",
          "name": "stdout",
          "text": [
            "Scoring metric: r2\n",
            "[0.83337664 0.83109333 0.83327797 0.83003583 0.82879487]\n",
            "Avg : 0.8313157262532631\n",
            "\n",
            "\n",
            "Scoring metric: neg_mean_absolute_error\n",
            "[-0.30986195 -0.30781959 -0.30830451 -0.31262795 -0.31211889]\n",
            "Avg : -0.3101465776721347\n",
            "\n",
            "\n",
            "Scoring metric: neg_mean_squared_error\n",
            "[-0.17212614 -0.16951312 -0.16781354 -0.17718913 -0.18209539]\n",
            "Avg : -0.1737474623194894\n",
            "\n",
            "\n",
            "Scoring metric: neg_root_mean_squared_error\n",
            "[-0.41488087 -0.41171971 -0.40965051 -0.42093839 -0.42672636]\n",
            "Avg : -0.41678316819469946\n",
            "\n",
            "\n"
          ]
        }
      ]
    },
    {
      "cell_type": "markdown",
      "source": [
        "Support Vector Machine (SVR)"
      ],
      "metadata": {
        "id": "c1EwGS-Jitkp"
      }
    },
    {
      "cell_type": "code",
      "source": [
        "# param_dist = {'kernel': [\n",
        "# \t\t#  'sigmoid',\n",
        "# \t\t 'linear'\n",
        "# \t\t ],\n",
        "#               'C' : [10, 100, 200]}\n",
        "\n",
        "# svr = SVR()\n",
        "# random_search = RandomizedSearchCV(\n",
        "# \tsvr, param_distributions=param_dist, n_iter=5,\n",
        "# \tscoring='r2', cv=3, verbose=2, random_state=2024\n",
        "# )\n",
        "# random_search.fit(X_train, y_train)\n",
        "\n",
        "# svr = random_search.best_estimator_\n",
        "# random_search.best_params_"
      ],
      "metadata": {
        "id": "PXMMD-PQjxd6"
      },
      "execution_count": null,
      "outputs": []
    },
    {
      "cell_type": "code",
      "source": [
        "# param_dist = {'kernel': ['sigmoid', 'poly'],\n",
        "#               'C' : [10, 100, 200]}\n",
        "\n",
        "# svr = SVR()\n",
        "# svr.fit(X_train, y_train)"
      ],
      "metadata": {
        "id": "UFKlBuOdsD4M"
      },
      "execution_count": null,
      "outputs": []
    },
    {
      "cell_type": "code",
      "source": [
        "# scores = ['r2', 'neg_mean_absolute_error', 'neg_mean_squared_error', 'neg_root_mean_squared_error']\n",
        "# scores_dict = [scores_r2, scores_mae, scores_mse, scores_rmse]\n",
        "\n",
        "# for x, score_dict in zip(scores, scores_dict):\n",
        "#   score_lr = cross_val_score(dt, X_test, y_test,cv=5, scoring=x)\n",
        "#   print('Scoring metric:', x)\n",
        "#   print(score_lr)\n",
        "#   print(\"Avg :\",np.average(score_lr))\n",
        "#   print('\\n')\n",
        "#   score_dict['Decision Tree'] = np.average(score_lr)"
      ],
      "metadata": {
        "id": "7t4EZk8mOiOk"
      },
      "execution_count": null,
      "outputs": []
    },
    {
      "cell_type": "code",
      "source": [
        "# scores_r2\n",
        "# scores_mae\n",
        "# scores_mse\n",
        "# scores_rmse"
      ],
      "metadata": {
        "id": "Xd-dcKvfVULJ"
      },
      "execution_count": null,
      "outputs": []
    },
    {
      "cell_type": "markdown",
      "source": [
        "Decision Tree"
      ],
      "metadata": {
        "id": "TYEt78tTstTb"
      }
    },
    {
      "cell_type": "code",
      "source": [
        "param_dist = {\n",
        "    'max_leaf_nodes':np.arange(3,26).tolist()\n",
        "}\n",
        "random_search = RandomizedSearchCV(\n",
        "\tDecisionTreeRegressor(), param_distributions=param_dist, n_iter=25,\n",
        "\tscoring='neg_mean_squared_error', cv=3, verbose=1, random_state=2024)"
      ],
      "metadata": {
        "id": "z1-2xsh1eJ_3"
      },
      "execution_count": null,
      "outputs": []
    },
    {
      "cell_type": "code",
      "source": [
        "random_search.fit(X_train, y_train)\n",
        "random_search.best_params_"
      ],
      "metadata": {
        "id": "LeALA2LAs0YS",
        "colab": {
          "base_uri": "https://localhost:8080/"
        },
        "outputId": "7ad15d87-ab3c-4ab4-af1d-d8e94a17259b"
      },
      "execution_count": null,
      "outputs": [
        {
          "output_type": "stream",
          "name": "stdout",
          "text": [
            "Fitting 3 folds for each of 23 candidates, totalling 69 fits\n"
          ]
        },
        {
          "output_type": "execute_result",
          "data": {
            "text/plain": [
              "{'max_leaf_nodes': 25}"
            ]
          },
          "metadata": {},
          "execution_count": 32
        }
      ]
    },
    {
      "cell_type": "code",
      "source": [
        "dt = DecisionTreeRegressor( criterion='squared_error', max_leaf_nodes= 25, )"
      ],
      "metadata": {
        "id": "rv4FFaPes6Gz"
      },
      "execution_count": null,
      "outputs": []
    },
    {
      "cell_type": "code",
      "source": [
        "dt = dt.fit(X_train, y_train)"
      ],
      "metadata": {
        "id": "-Pkj3rh0s7AL"
      },
      "execution_count": null,
      "outputs": []
    },
    {
      "cell_type": "code",
      "source": [
        "scores = ['r2', 'neg_mean_absolute_error', 'neg_mean_squared_error', 'neg_root_mean_squared_error']\n",
        "scores_dict = [scores_r2, scores_mae, scores_mse, scores_rmse]\n",
        "\n",
        "for x, score_dict in zip(scores, scores_dict):\n",
        "  score_lr = cross_val_score(dt, X_test, y_test,cv=5, scoring=x)\n",
        "  print('Scoring metric:', x)\n",
        "  print(score_lr)\n",
        "  print(\"Avg :\",np.average(score_lr))\n",
        "  print('\\n')\n",
        "  score_dict['Decision Tree'] = np.average(score_lr)"
      ],
      "metadata": {
        "id": "dEv79gCMtR9f",
        "colab": {
          "base_uri": "https://localhost:8080/"
        },
        "outputId": "4f00d888-76a4-4371-d6bf-2cf9ee1289a8"
      },
      "execution_count": null,
      "outputs": [
        {
          "output_type": "stream",
          "name": "stdout",
          "text": [
            "Scoring metric: r2\n",
            "[0.838446   0.82911496 0.83875887 0.83186873 0.83806919]\n",
            "Avg : 0.8352515502147954\n",
            "\n",
            "\n",
            "Scoring metric: neg_mean_absolute_error\n",
            "[-0.30146317 -0.30241082 -0.29543523 -0.3054617  -0.30706726]\n",
            "Avg : -0.3023676355277599\n",
            "\n",
            "\n",
            "Scoring metric: neg_mean_squared_error\n",
            "[-0.16688935 -0.17149859 -0.16229676 -0.17527831 -0.17223113]\n",
            "Avg : -0.16963882936450833\n",
            "\n",
            "\n",
            "Scoring metric: neg_root_mean_squared_error\n",
            "[-0.40852093 -0.41412388 -0.40286072 -0.41866253 -0.41500739]\n",
            "Avg : -0.41183509026392306\n",
            "\n",
            "\n"
          ]
        }
      ]
    },
    {
      "cell_type": "markdown",
      "source": [
        "Random Forest"
      ],
      "metadata": {
        "id": "lTCGZrEnuOR4"
      }
    },
    {
      "cell_type": "code",
      "source": [
        "param_dist = {'n_estimators': [int(x) for x in np.linspace(start = 50, stop = 200, num = 5)],\n",
        "              #  'max_depth': [int(x) for x in np.linspace(5, 50, num = 5)],\n",
        "              #  'min_samples_split': [2, 5, 10],\n",
        "              #  'min_samples_leaf':  [1, 2, 4],\n",
        "              #  'bootstrap': [True, False]\n",
        "              }"
      ],
      "metadata": {
        "id": "R5wiXERWuIBb"
      },
      "execution_count": null,
      "outputs": []
    },
    {
      "cell_type": "code",
      "source": [
        "# rf = RandomForestRegressor(n_estimators= 100,\n",
        "#                           min_samples_split= 2,\n",
        "#                           min_samples_leaf= 2,\n",
        "#                           max_features= 'auto',\n",
        "#                           max_depth= 5,\n",
        "#                           bootstrap= True)\n",
        "\n",
        "# rf = RandomForestRegressor()\n",
        "# rf_random = RandomizedSearchCV(estimator = rf, param_distributions = param_dist, n_iter = 3, cv = 3, verbose=3, random_state=42, n_jobs = -1)\n",
        "# rf = rf_random.fit(X_train, y_train)\n"
      ],
      "metadata": {
        "id": "CquAtwW7uUJ7"
      },
      "execution_count": null,
      "outputs": []
    },
    {
      "cell_type": "code",
      "source": [
        "# scores = ['r2', 'neg_mean_absolute_error', 'neg_mean_squared_error', 'neg_root_mean_squared_error']\n",
        "# scores_dict = [scores_r2, scores_mae, scores_mse, scores_rmse]\n",
        "\n",
        "# for x, score_dict in zip(scores, scores_dict):\n",
        "#   score_lr = cross_val_score(rf, X_test, y_test,cv=5, scoring=x)\n",
        "#   print('Scoring metric:', x)\n",
        "#   print(score_lr)\n",
        "#   print(\"Avg :\",np.average(score_lr))\n",
        "#   print('\\n')\n",
        "#   score_dict['Random Forest Regressor'] = np.average(score_lr)"
      ],
      "metadata": {
        "id": "7cVD-9enupbU"
      },
      "execution_count": null,
      "outputs": []
    },
    {
      "cell_type": "markdown",
      "source": [
        "Ridge Regression"
      ],
      "metadata": {
        "id": "bPKn-GjMxETE"
      }
    },
    {
      "cell_type": "code",
      "source": [
        "RidgeRegression = Ridge()\n",
        "\n",
        "hyperParameters = {'alpha':[1e-15,1e-10,1e-8,1e-3,1e-2,1,5,10,20,30,35,40,45,50,55,100]}\n",
        "ridgeRegressor = GridSearchCV(RidgeRegression, hyperParameters, scoring='neg_mean_squared_error', cv=5)\n",
        "\n",
        "rr = RidgeRegression.fit(X_train, y_train)"
      ],
      "metadata": {
        "id": "NBKKpflxvvJK"
      },
      "execution_count": null,
      "outputs": []
    },
    {
      "cell_type": "code",
      "source": [
        "scores = ['r2', 'neg_mean_absolute_error', 'neg_mean_squared_error', 'neg_root_mean_squared_error']\n",
        "scores_dict = [scores_r2, scores_mae, scores_mse, scores_rmse]\n",
        "\n",
        "for x, score_dict in zip(scores, scores_dict):\n",
        "  score_lr = cross_val_score(rr, X_test, y_test,cv=5, scoring=x)\n",
        "  print('Scoring metric:', x)\n",
        "  print(score_lr)\n",
        "  print(\"Avg :\",np.average(score_lr))\n",
        "  print('\\n')\n",
        "  score_dict['Ridge Regressor'] = np.average(score_lr)"
      ],
      "metadata": {
        "id": "8-VTkPbkxMyo",
        "colab": {
          "base_uri": "https://localhost:8080/"
        },
        "outputId": "44ea676b-d486-427f-af1a-939e2d210eaf"
      },
      "execution_count": null,
      "outputs": [
        {
          "output_type": "stream",
          "name": "stdout",
          "text": [
            "Scoring metric: r2\n",
            "[0.80061941 0.78866714 0.79535707 0.79853266 0.79791494]\n",
            "Avg : 0.7962182433705209\n",
            "\n",
            "\n",
            "Scoring metric: neg_mean_absolute_error\n",
            "[-0.34879908 -0.35082506 -0.34782303 -0.34936877 -0.35454177]\n",
            "Avg : -0.35027154239829345\n",
            "\n",
            "\n",
            "Scoring metric: neg_mean_squared_error\n",
            "[-0.20596518 -0.21209163 -0.2059827  -0.21003146 -0.21493957]\n",
            "Avg : -0.20980210904587496\n",
            "\n",
            "\n",
            "Scoring metric: neg_root_mean_squared_error\n",
            "[-0.45383386 -0.46053407 -0.45385317 -0.45829189 -0.46361576]\n",
            "Avg : -0.4580257530317426\n",
            "\n",
            "\n"
          ]
        }
      ]
    },
    {
      "cell_type": "markdown",
      "source": [
        "Lasso Regression\n"
      ],
      "metadata": {
        "id": "ggpW25Krxdnr"
      }
    },
    {
      "cell_type": "code",
      "source": [
        "LassoRegression = Lasso()\n",
        "\n",
        "hyperParameters = {'alpha':[1e-15,1e-8,1e-2,1,5,10,20,30,40,50,100]}\n",
        "LassoRegressor = GridSearchCV(LassoRegression, hyperParameters, scoring='neg_mean_squared_error', cv=5)\n",
        "\n",
        "lr = LassoRegressor.fit(X_train, y_train)"
      ],
      "metadata": {
        "id": "QzI4c1x5xUZW"
      },
      "execution_count": null,
      "outputs": []
    },
    {
      "cell_type": "code",
      "source": [
        "scores = ['r2', 'neg_mean_absolute_error', 'neg_mean_squared_error', 'neg_root_mean_squared_error']\n",
        "scores_dict = [scores_r2, scores_mae, scores_mse, scores_rmse]\n",
        "\n",
        "for x, score_dict in zip(scores, scores_dict):\n",
        "  score_lr = cross_val_score(lr, X_test, y_test,cv=5, scoring=x)\n",
        "  print('Scoring metric:', x)\n",
        "  print(score_lr)\n",
        "  print(\"Avg :\",np.average(score_lr))\n",
        "  print('\\n')\n",
        "  score_dict['Lasso Regressor'] = np.average(score_lr)"
      ],
      "metadata": {
        "id": "FMMrXMe_xh5W",
        "colab": {
          "base_uri": "https://localhost:8080/"
        },
        "outputId": "531f62ab-2917-4241-ef50-d398db933f05"
      },
      "execution_count": null,
      "outputs": [
        {
          "output_type": "stream",
          "name": "stdout",
          "text": [
            "Scoring metric: r2\n",
            "[0.80061842 0.78866702 0.79535687 0.79853273 0.7979158 ]\n",
            "Avg : 0.7962181682546134\n",
            "\n",
            "\n",
            "Scoring metric: neg_mean_absolute_error\n",
            "[-0.34880249 -0.35082643 -0.34782508 -0.34937081 -0.3545435 ]\n",
            "Avg : -0.3502736612085647\n",
            "\n",
            "\n",
            "Scoring metric: neg_mean_squared_error\n",
            "[-0.2059662  -0.21209175 -0.20598291 -0.21003138 -0.21493866]\n",
            "Avg : -0.20980217952295138\n",
            "\n",
            "\n",
            "Scoring metric: neg_root_mean_squared_error\n",
            "[-0.45383499 -0.4605342  -0.4538534  -0.4582918  -0.46361478]\n",
            "Avg : -0.45802583470719027\n",
            "\n",
            "\n"
          ]
        }
      ]
    },
    {
      "cell_type": "markdown",
      "source": [
        "Poisson Regressor"
      ],
      "metadata": {
        "id": "y8_LI4NQF43O"
      }
    },
    {
      "cell_type": "code",
      "source": [
        "poisson = PoissonRegressor( )\n",
        "y_train_filtered = y_train[y_train >= 0]\n",
        "X_train_filtered = X_train[y_train >= 0]\n",
        "\n",
        "# Train the model with filtered data\n",
        "poisson_reg = poisson.fit(X_train_filtered, y_train_filtered)"
      ],
      "metadata": {
        "id": "nVRwlQefxvij"
      },
      "execution_count": null,
      "outputs": []
    },
    {
      "cell_type": "code",
      "source": [
        "scores = ['r2', 'neg_mean_absolute_error', 'neg_mean_squared_error', 'neg_root_mean_squared_error']\n",
        "scores_dict = [scores_r2, scores_mae, scores_mse, scores_rmse]\n",
        "\n",
        "for x, score_dict in zip(scores, scores_dict):\n",
        "  score_lr = cross_val_score(poisson_reg, X_test[y_test >= 0], y_test[y_test >= 0],cv=5, scoring=x)\n",
        "  print('Scoring metric:', x)\n",
        "  print(score_lr)\n",
        "  print(\"Avg :\",np.average(score_lr))\n",
        "  print('\\n')\n",
        "  score_dict['Poisson Regressor'] = np.average(score_lr)"
      ],
      "metadata": {
        "id": "uzw2gMY2F_XP",
        "colab": {
          "base_uri": "https://localhost:8080/"
        },
        "outputId": "02b5587e-15da-4dbd-9a6b-c0973b2f8a8b"
      },
      "execution_count": null,
      "outputs": [
        {
          "output_type": "stream",
          "name": "stdout",
          "text": [
            "Scoring metric: r2\n",
            "[0.02319288 0.02401225 0.02528225 0.02485944 0.02260527]\n",
            "Avg : 0.02399041936759925\n",
            "\n",
            "\n",
            "Scoring metric: neg_mean_absolute_error\n",
            "[-0.24879179 -0.2569533  -0.24833649 -0.25736855 -0.25937103]\n",
            "Avg : -0.25416423028022017\n",
            "\n",
            "\n",
            "Scoring metric: neg_mean_squared_error\n",
            "[-0.12288155 -0.12522246 -0.11939532 -0.13112527 -0.13115889]\n",
            "Avg : -0.12595670053485603\n",
            "\n",
            "\n",
            "Scoring metric: neg_root_mean_squared_error\n",
            "[-0.35054465 -0.35386786 -0.34553629 -0.36211224 -0.36215865]\n",
            "Avg : -0.35484393764274647\n",
            "\n",
            "\n"
          ]
        }
      ]
    },
    {
      "cell_type": "markdown",
      "source": [
        "Gaussian Regressor"
      ],
      "metadata": {
        "id": "Qw4uFRr_GcnO"
      }
    },
    {
      "cell_type": "code",
      "source": [
        "# kernel = 1 * RBF(length_scale=1.0)\n",
        "# gaussian_process = GaussianProcessRegressor(kernel=kernel,\n",
        "#                                             n_restarts_optimizer=5\n",
        "#                                             )\n",
        "# gaussian_process.fit(X_train, y_train)"
      ],
      "metadata": {
        "id": "HVh8upuzGEta"
      },
      "execution_count": null,
      "outputs": []
    },
    {
      "cell_type": "code",
      "source": [
        "# scores = ['r2', 'neg_mean_absolute_error', 'neg_mean_squared_error', 'neg_root_mean_squared_error']\n",
        "# scores_dict = [scores_r2, scores_mae, scores_mse, scores_rmse]\n",
        "\n",
        "# for x, score_dict in zip(scores, scores_dict):\n",
        "#   score_lr = cross_val_score(gaussian_process, X_test, y_test,cv=5, scoring=x)\n",
        "#   print('Scoring metric:', x)\n",
        "#   print(score_lr)\n",
        "#   print(\"Avg :\",np.average(score_lr))\n",
        "#   print('\\n')\n",
        "#   score_dict['Gaussian Regressor'] = np.average(score_lr)"
      ],
      "metadata": {
        "id": "kanox18MGidp"
      },
      "execution_count": null,
      "outputs": []
    },
    {
      "cell_type": "code",
      "source": [
        "show_scores()"
      ],
      "metadata": {
        "id": "31-u6d4uLGXB",
        "colab": {
          "base_uri": "https://localhost:8080/"
        },
        "outputId": "8e1eb731-46b7-4ea5-e9a0-f99827a21eb6"
      },
      "execution_count": null,
      "outputs": [
        {
          "output_type": "stream",
          "name": "stdout",
          "text": [
            "r2 score: {'Linear Regression': 0.796210122679969, 'Polynomial Regression': 0.8313157262532631, 'Decision Tree': 0.8352515502147954, 'Ridge Regressor': 0.7962182433705209, 'Lasso Regressor': 0.7962181682546134, 'Poisson Regressor': 0.02399041936759925},\n",
            "mae score: {'Linear Regression': -0.35021220383106844, 'Polynomial Regression': -0.3101465776721347, 'Decision Tree': -0.3023676355277599, 'Ridge Regressor': -0.35027154239829345, 'Lasso Regressor': -0.3502736612085647, 'Poisson Regressor': -0.25416423028022017},\n",
            "mse score: {'Linear Regression': -0.20981068732254218, 'Polynomial Regression': -0.1737474623194894, 'Decision Tree': -0.16963882936450833, 'Ridge Regressor': -0.20980210904587496, 'Lasso Regressor': -0.20980217952295138, 'Poisson Regressor': -0.12595670053485603},\n",
            "rmse score: {'Linear Regression': -0.45803506102390906, 'Polynomial Regression': -0.41678316819469946, 'Decision Tree': -0.41183509026392306, 'Ridge Regressor': -0.4580257530317426, 'Lasso Regressor': -0.45802583470719027, 'Poisson Regressor': -0.35484393764274647}\n"
          ]
        }
      ]
    },
    {
      "cell_type": "markdown",
      "source": [
        "Comparing :"
      ],
      "metadata": {
        "id": "ou30B4QINme2"
      }
    },
    {
      "cell_type": "code",
      "source": [
        "# plotting R2 scores\n",
        "\n",
        "plt.figure(figsize=(10,6))\n",
        "plt.rcParams[\"font.family\"] = \"serif\"\n",
        "\n",
        "cols = ['grey' if (x < max(scores_r2.values())) else 'orange' for x in scores_r2.values()]\n",
        "ax = sns.barplot(scores_r2, x=scores_r2.keys(), y=scores_r2.values(), palette=cols)\n",
        "ax.set_xticklabels(scores_r2.keys(),rotation=30)\n",
        "# plt.ylim(0.95, 1.00)\n",
        "for p in ax.patches:\n",
        "    ax.annotate(format(p.get_height(), '.3f'), (p.get_x() + p.get_width() / 2., p.get_height()),\n",
        "       ha = 'center', va = 'center', xytext = (0, 10), textcoords = 'offset points')\n",
        "\n",
        "ax.set_title('R2 Scores', fontdict={'fontsize': 14, 'fontweight': 'semibold'}, pad=15)\n"
      ],
      "metadata": {
        "id": "SpSPBBj2NoYg",
        "colab": {
          "base_uri": "https://localhost:8080/",
          "height": 652
        },
        "outputId": "402cc6f2-796c-42ca-f705-b0c85db5a199"
      },
      "execution_count": null,
      "outputs": [
        {
          "output_type": "execute_result",
          "data": {
            "text/plain": [
              "Text(0.5, 1.0, 'R2 Scores')"
            ]
          },
          "metadata": {},
          "execution_count": 55
        },
        {
          "output_type": "display_data",
          "data": {
            "text/plain": [
              "<Figure size 1000x600 with 1 Axes>"
            ],
            "image/png": "[encoded data removed]"
          },
          "metadata": {}
        }
      ]
    },
    {
      "cell_type": "code",
      "source": [],
      "metadata": {
        "id": "PnOMkoU8YNXt"
      },
      "execution_count": null,
      "outputs": []
    }
  ],
  "metadata": {
    "colab": {
      "provenance": [],
      "gpuType": "V28",
      "authorship_tag": "ABX9TyMNyHrYWqd7vBVr8WfhiFis",
      "include_colab_link": true
    },
    "kernelspec": {
      "display_name": "Python 3",
      "name": "python3"
    },
    "language_info": {
      "name": "python"
    },
    "accelerator": "TPU"
  },
  "nbformat": 4,
  "nbformat_minor": 0
}